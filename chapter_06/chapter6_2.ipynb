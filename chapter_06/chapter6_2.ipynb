{
 "cells": [
  {
   "cell_type": "code",
   "execution_count": 449,
   "id": "8a0e5076",
   "metadata": {},
   "outputs": [],
   "source": [
    "import warnings ; warnings.filterwarnings('ignore')\n",
    "\n",
    "import itertools\n",
    "import gym, gym_walk, gym_aima\n",
    "import numpy as np\n",
    "from tabulate import tabulate\n",
    "from pprint import pprint\n",
    "from tqdm import tqdm_notebook as tqdm\n",
    "\n",
    "from itertools import cycle, count\n",
    "\n",
    "import random\n",
    "import matplotlib\n",
    "import matplotlib.pyplot as plt\n",
    "import matplotlib.pylab as pylab\n",
    "SEEDS = (12, 34, 56, 78, 90)\n",
    "\n",
    "%matplotlib inline"
   ]
  },
  {
   "cell_type": "code",
   "execution_count": null,
   "id": "f6f2fc48",
   "metadata": {},
   "outputs": [],
   "source": []
  },
  {
   "cell_type": "code",
   "execution_count": 450,
   "id": "7fd74760",
   "metadata": {},
   "outputs": [],
   "source": [
    "plt.style.use('fivethirtyeight')\n",
    "params = {\n",
    "    'figure.figsize': (15, 8),\n",
    "    'font.size': 24,\n",
    "    'legend.fontsize': 20,\n",
    "    'axes.titlesize': 28,\n",
    "    'axes.labelsize': 24,\n",
    "    'xtick.labelsize': 20,\n",
    "    'ytick.labelsize': 20\n",
    "}\n",
    "pylab.rcParams.update(params)\n",
    "np.set_printoptions(suppress=True)"
   ]
  },
  {
   "cell_type": "code",
   "execution_count": 470,
   "id": "236a696e",
   "metadata": {},
   "outputs": [],
   "source": [
    "def value_iteration(P, gamma=1.0, theta=1e-10):\n",
    "    V = np.zeros(len(P), dtype=np.float64)\n",
    "    while True:\n",
    "        Q = np.zeros((len(P), len(P[0])), dtype=np.float64)\n",
    "        for s in range(len(P)):\n",
    "            for a in range(len(P[s])):\n",
    "                for prob, next_state, reward, done in P[s][a]:\n",
    "                    Q[s][a] += prob * (reward + gamma * V[next_state] * (not done))\n",
    "        if np.max(np.abs(V - np.max(Q, axis=1))) < theta:\n",
    "            break\n",
    "        V = np.max(Q, axis=1)\n",
    "    pi = lambda s: {s:a for s, a in enumerate(np.argmax(Q, axis=1))}[s]\n",
    "    return Q, V, pi"
   ]
  },
  {
   "cell_type": "code",
   "execution_count": 471,
   "id": "78312a4c",
   "metadata": {},
   "outputs": [],
   "source": [
    "def print_policy(pi, P, action_symbols=('<', 'v', '>', '^'), n_cols=4, title='Policy:'):\n",
    "    print(title)\n",
    "    arrs = {k:v for k,v in enumerate(action_symbols)}\n",
    "    for s in range(len(P)):\n",
    "        a = pi(s)\n",
    "        print(\"| \", end=\"\")\n",
    "        if np.all([done for action in P[s].values() for _, _, _, done in action]):\n",
    "            print(\"\".rjust(9), end=\" \")\n",
    "        else:\n",
    "            print(str(s).zfill(2), arrs[a].rjust(6), end=\" \")\n",
    "        if (s + 1) % n_cols == 0: print(\"|\")"
   ]
  },
  {
   "cell_type": "code",
   "execution_count": 472,
   "id": "4c06e7f6",
   "metadata": {},
   "outputs": [],
   "source": [
    "def print_state_value_function(V, P, n_cols=4, prec=3, title='State-value function:'):\n",
    "    print(title)\n",
    "    for s in range(len(P)):\n",
    "        v = V[s]\n",
    "        print(\"| \", end=\"\")\n",
    "        if np.all([done for action in P[s].values() for _, _, _, done in action]):\n",
    "            print(\"\".rjust(9), end=\" \")\n",
    "        else:\n",
    "            print(str(s).zfill(2), '{}'.format(np.round(v, prec)).rjust(6), end=\" \")\n",
    "        if (s + 1) % n_cols == 0: print(\"|\")"
   ]
  },
  {
   "cell_type": "code",
   "execution_count": 473,
   "id": "3a6bcf8a",
   "metadata": {},
   "outputs": [],
   "source": [
    "def print_action_value_function(Q, \n",
    "                                optimal_Q=None, \n",
    "                                action_symbols=('<', '>'), \n",
    "                                prec=3, \n",
    "                                title='Action-value function:'):\n",
    "    vf_types=('',) if optimal_Q is None else ('', '*', 'err')\n",
    "    headers = ['s',] + [' '.join(i) for i in list(itertools.product(vf_types, action_symbols))]\n",
    "    print(title)\n",
    "    states = np.arange(len(Q))[..., np.newaxis]\n",
    "    arr = np.hstack((states, np.round(Q, prec)))\n",
    "    if not (optimal_Q is None):\n",
    "        arr = np.hstack((arr, np.round(optimal_Q, prec), np.round(optimal_Q-Q, prec)))\n",
    "    print(tabulate(arr, headers, tablefmt=\"fancy_grid\"))"
   ]
  },
  {
   "cell_type": "code",
   "execution_count": 474,
   "id": "0551d573",
   "metadata": {},
   "outputs": [],
   "source": [
    "def get_policy_metrics(env, gamma, pi, goal_state, optimal_Q, \n",
    "                       n_episodes=100, max_steps=200):\n",
    "    random.seed(123); np.random.seed(123) ; env.seed(123)\n",
    "    reached_goal, episode_reward, episode_regret = [], [], []\n",
    "    for _ in range(n_episodes):\n",
    "        state, done, steps = env.reset(), False, 0\n",
    "        episode_reward.append(0.0)\n",
    "        episode_regret.append(0.0)\n",
    "        while not done and steps < max_steps:\n",
    "            action = pi(state)\n",
    "            regret = np.max(optimal_Q[state]) - optimal_Q[state][action]\n",
    "            episode_regret[-1] += regret\n",
    "            \n",
    "            state, reward, done, _ = env.step(action)\n",
    "            episode_reward[-1] += (gamma**steps * reward)\n",
    "            \n",
    "            steps += 1\n",
    "\n",
    "        reached_goal.append(state == goal_state)\n",
    "    results = np.array((np.sum(reached_goal)/len(reached_goal)*100, \n",
    "                        np.mean(episode_reward), \n",
    "                        np.mean(episode_regret)))\n",
    "    return results\n"
   ]
  },
  {
   "cell_type": "code",
   "execution_count": 475,
   "id": "ddd41fcf",
   "metadata": {},
   "outputs": [],
   "source": [
    "def get_metrics_from_tracks(env, gamma, goal_state, optimal_Q, pi_track, coverage = 0.1):\n",
    "    \"\"\"\n",
    "    Calculate metrics from the tracks of the agent's performance.\n",
    "\n",
    "    Parameters:\n",
    "    env : gym.Env\n",
    "        The environment.\n",
    "    gamma : float\n",
    "        Discount factor.\n",
    "    goal_state : int\n",
    "        The goal state index.\n",
    "    optimal_Q : np.ndarray\n",
    "        Optimal action-value function.\n",
    "    pi_track : list\n",
    "        List of policies tracked during the episodes.\n",
    "    coverage : float\n",
    "        Coverage threshold for the policy.\n",
    "\n",
    "    Returns:\n",
    "    metrics : dict\n",
    "        Dictionary containing various performance metrics.\n",
    "    \"\"\"\n",
    "    total_samples = len(pi_track)\n",
    "    n_samples = int(total_samples * coverage)\n",
    "\n",
    "    samples_e = np.linspace(0, total_samples, n_samples, endpoint = True, dtype = int)\n",
    "    metrics = []\n",
    "\n",
    "    for e, pi in enumerate(pi_track): \n",
    "        if e in samples_e: \n",
    "            metrics.append((get_policy_metrics(env, gamma = gamma, pi = lambda s:pi[s], goal_state = goal_state, optimal_Q = optimal_Q)))\n",
    "\n",
    "        else:\n",
    "            metrics.append(metrics[-1])\n",
    "\n",
    "        \n",
    "    metrics = np.array(metrics)\n",
    "    success_rate_ma, mean_return_ma, mean_regret_ma = np.apply_along_axis(moving_average, axis = 0, arr = metrics).T \n",
    "\n",
    "    return success_rate_ma, mean_return_ma, mean_regret_ma \n"
   ]
  },
  {
   "cell_type": "code",
   "execution_count": 476,
   "id": "bd6e5ca7",
   "metadata": {},
   "outputs": [],
   "source": [
    "def rmse(x, y, dp=4):\n",
    "    return np.round(np.sqrt(np.mean((x - y)**2)), dp)"
   ]
  },
  {
   "cell_type": "code",
   "execution_count": 477,
   "id": "fdc5d4dd",
   "metadata": {},
   "outputs": [],
   "source": [
    "def moving_average(x, n = 100):\n",
    "    ret = np.cumsum(x, dtype = float)\n",
    "    ret[n:] = ret[n:] - ret[:-n]\n",
    "    return ret[n-1:] / n"
   ]
  },
  {
   "cell_type": "code",
   "execution_count": 478,
   "id": "07f15a1f",
   "metadata": {},
   "outputs": [],
   "source": [
    "def plot_value_function(title, V_track, V_true=None, log=False, limit_value=0.05, limit_items=5):\n",
    "    np.random.seed(123)\n",
    "    per_col = 25\n",
    "    linecycler = cycle([\"-\",\"--\",\":\",\"-.\"])\n",
    "    legends = []\n",
    "\n",
    "    valid_values = np.argwhere(V_track[-1] > limit_value).squeeze()\n",
    "    items_idxs = np.random.choice(valid_values, \n",
    "                                  min(len(valid_values), limit_items), \n",
    "                                  replace=False)\n",
    "    # draw the true values first\n",
    "    if V_true is not None:\n",
    "        for i, state in enumerate(V_track.T):\n",
    "            if i not in items_idxs:\n",
    "                continue\n",
    "            if state[-1] < limit_value:\n",
    "                continue\n",
    "\n",
    "            label = 'v*({})'.format(i)\n",
    "            plt.axhline(y=V_true[i], color='k', linestyle='-', linewidth=1)\n",
    "            plt.text(int(len(V_track)*1.02), V_true[i]+.01, label)\n",
    "\n",
    "    # then the estimates\n",
    "    for i, state in enumerate(V_track.T):\n",
    "        if i not in items_idxs:\n",
    "            continue\n",
    "        if state[-1] < limit_value:\n",
    "            continue\n",
    "        line_type = next(linecycler)\n",
    "        label = 'V({})'.format(i)\n",
    "        p, = plt.plot(state, line_type, label=label, linewidth=3)\n",
    "        legends.append(p)\n",
    "        \n",
    "    legends.reverse()\n",
    "\n",
    "    ls = []\n",
    "    for loc, idx in enumerate(range(0, len(legends), per_col)):\n",
    "        subset = legends[idx:idx+per_col]\n",
    "        l = plt.legend(subset, [p.get_label() for p in subset], \n",
    "                       loc='center right', bbox_to_anchor=(1.25, 0.5))\n",
    "        ls.append(l)\n",
    "    [plt.gca().add_artist(l) for l in ls[:-1]]\n",
    "    if log: plt.xscale('log')\n",
    "    plt.title(title)\n",
    "    plt.ylabel('State-value function')\n",
    "    plt.xlabel('Episodes (log scale)' if log else 'Episodes')\n",
    "    plt.show()\n",
    "    "
   ]
  },
  {
   "cell_type": "code",
   "execution_count": 479,
   "id": "d070dd0a",
   "metadata": {},
   "outputs": [],
   "source": [
    "def decay_schedule(init_value, min_value, decay_ratio, max_steps, log_start = -2, log_base = 10):\n",
    "    decay_steps = int(max_steps*decay_ratio)\n",
    "    rem_steps = max_steps - decay_steps\n",
    "\n",
    "    values = np.logspace(log_start, 0, decay_steps, base=log_base, endpoint = True)[::-1]\n",
    "    values = (values - values.min()) / (values.max() - values.min())\n",
    "    values = values * (init_value - min_value) + min_value\n",
    "    values = np.pad(values, (0, rem_steps), 'edge')\n",
    "    return values"
   ]
  },
  {
   "cell_type": "markdown",
   "id": "db833ce3",
   "metadata": {},
   "source": [
    "### Slippery Walk Seven"
   ]
  },
  {
   "cell_type": "code",
   "execution_count": 480,
   "id": "172caab4",
   "metadata": {},
   "outputs": [],
   "source": [
    "env = gym.make(\"SlipperyWalkSeven-v0\")\n",
    "init_state = env.reset()\n",
    "goal_state = 8 \n",
    "gamma = 0.99\n",
    "n_episodes = 3000 \n",
    "P = env.P \n",
    "n_cols, svf_prec, err_prec, avf_prec = 9, 4, 2, 3\n",
    "action_symbols = ('<', '>')\n",
    "limit_items, limit_value = 5, 0.0\n",
    "cu_limit_items, cu_limit_value, cu_episodes = 10, 0.0, 100 "
   ]
  },
  {
   "cell_type": "markdown",
   "id": "733806ed",
   "metadata": {},
   "source": [
    "## Alpha and Epsilon Schedules"
   ]
  },
  {
   "cell_type": "code",
   "execution_count": 481,
   "id": "46be59f0",
   "metadata": {},
   "outputs": [
    {
     "data": {
      "image/png": "[encoded data removed]",
      "text/plain": [
       "<Figure size 1080x576 with 1 Axes>"
      ]
     },
     "metadata": {},
     "output_type": "display_data"
    }
   ],
   "source": [
    "plt.plot(decay_schedule(0.5, 0.01, 0.5, n_episodes), label='Alpha schedule')\n",
    "plt.plot(decay_schedule(1.0, 0.01, 0.9, n_episodes), label='Epsilon schedule')\n",
    "plt.legend()\n",
    "plt.show()"
   ]
  },
  {
   "cell_type": "markdown",
   "id": "f8e70ff1",
   "metadata": {},
   "source": [
    "### Optimal value functions and policy"
   ]
  },
  {
   "cell_type": "code",
   "execution_count": 482,
   "id": "a55154ea",
   "metadata": {},
   "outputs": [
    {
     "name": "stdout",
     "output_type": "stream",
     "text": [
      "Optimal state-value function:\n",
      "|           | 01 0.5637 | 02  0.763 | 03 0.8449 | 04 0.8892 | 05  0.922 | 06 0.9515 | 07 0.9806 |           |\n",
      "\n",
      "Optimal action-value function:\n",
      "╒═════╤═══════╤═══════╕\n",
      "│   s │     < │     > │\n",
      "╞═════╪═══════╪═══════╡\n",
      "│   0 │ 0     │ 0     │\n",
      "├─────┼───────┼───────┤\n",
      "│   1 │ 0.312 │ 0.564 │\n",
      "├─────┼───────┼───────┤\n",
      "│   2 │ 0.67  │ 0.763 │\n",
      "├─────┼───────┼───────┤\n",
      "│   3 │ 0.803 │ 0.845 │\n",
      "├─────┼───────┼───────┤\n",
      "│   4 │ 0.864 │ 0.889 │\n",
      "├─────┼───────┼───────┤\n",
      "│   5 │ 0.901 │ 0.922 │\n",
      "├─────┼───────┼───────┤\n",
      "│   6 │ 0.932 │ 0.952 │\n",
      "├─────┼───────┼───────┤\n",
      "│   7 │ 0.961 │ 0.981 │\n",
      "├─────┼───────┼───────┤\n",
      "│   8 │ 0     │ 0     │\n",
      "╘═════╧═══════╧═══════╛\n",
      "\n",
      "Policy:\n",
      "|           | 01      > | 02      > | 03      > | 04      > | 05      > | 06      > | 07      > |           |\n",
      "Reaches goal 96.00%. Obtains an average return of 0.8548. Regret of 0.0000\n"
     ]
    }
   ],
   "source": [
    "optimal_Q, optimal_V, optimal_pi = value_iteration(P, gamma=gamma)\n",
    "print_state_value_function(optimal_V, P, n_cols=n_cols, prec=svf_prec, title='Optimal state-value function:')\n",
    "print()\n",
    "\n",
    "print_action_value_function(optimal_Q, \n",
    "                            None, \n",
    "                            action_symbols=action_symbols, \n",
    "                            prec=avf_prec, \n",
    "                            title='Optimal action-value function:')\n",
    "print()\n",
    "print_policy(optimal_pi, P, action_symbols=action_symbols, n_cols=n_cols)\n",
    "success_rate_op, mean_return_op, mean_regret_op = get_policy_metrics(\n",
    "    env, gamma=gamma, pi=optimal_pi, goal_state=goal_state, optimal_Q=optimal_Q)\n",
    "print('Reaches goal {:.2f}%. Obtains an average return of {:.4f}. Regret of {:.4f}'.format(\n",
    "    success_rate_op, mean_return_op, mean_regret_op))"
   ]
  },
  {
   "cell_type": "markdown",
   "id": "2493feea",
   "metadata": {},
   "source": [
    "### First Visit Monte Carlo Control "
   ]
  },
  {
   "cell_type": "code",
   "execution_count": 483,
   "id": "58dbd210",
   "metadata": {},
   "outputs": [],
   "source": [
    "def generate_trajectory(select_action, Q, epsilon, env, max_steps = 200):\n",
    "    done, trajectory = False, []\n",
    "    while not done: \n",
    "        state = env.reset()\n",
    "\n",
    "        for t in count():\n",
    "            action = select_action(state, Q, epsilon)\n",
    "            next_state, reward, done, _ = env.step(action)\n",
    "            experience = (state, action, reward, next_state, done)\n",
    "            trajectory.append(experience)\n",
    "\n",
    "            if done: \n",
    "                break \n",
    "            if t >= max_steps -1:\n",
    "                trajectory = []\n",
    "\n",
    "            state = next_state\n",
    "\n",
    "    return np.array(trajectory, dtype=object)\n"
   ]
  },
  {
   "cell_type": "code",
   "execution_count": null,
   "id": "730610b7",
   "metadata": {},
   "outputs": [],
   "source": [
    "def mc_control(env, gamma = 1.0, init_alpha = 0.5, min_alpha = 0.01, alpha_decay_ratio = 0.5,\n",
    "                  init_epsilon = 1.0, min_epsilon = 0.1, epsilon_decay_ratio = 0.9, n_episodes = 3000, max_steps = 200,\n",
    "                  first_visit = True):\n",
    "    \n",
    "    nS, nA = env.observation_space.n, env.action_space.n\n",
    "\n",
    "    discounts = np.logspace(0, max_steps, max_steps, endpoint=True, base=gamma)\n",
    "    epsilons = decay_schedule(init_epsilon, min_epsilon, epsilon_decay_ratio, n_episodes)\n",
    "    alphas = decay_schedule(init_alpha, min_alpha, alpha_decay_ratio, n_episodes)\n",
    "\n",
    "    select_action = lambda state, Q, epsilon: np.argmax(Q[state]) \\\n",
    "        if np.random.random() > epsilon \\\n",
    "        else np.random.randint(len(Q[state]))\n",
    "    \n",
    "    Q = np.zeros((nS, nA), dtype=np.float64)\n",
    "    Q_track = np.zeros((n_episodes, nS, nA), dtype=np.float64)\n",
    "    pi_track = []\n",
    "\n",
    "    for e in tqdm(range(n_episodes), leave = False):\n",
    "        trajectory = generate_trajectory(select_action, Q, epsilons[e], env, max_steps=max_steps)\n",
    "        visited = np.zeros((nS, nA), dtype = np.bool)\n",
    "\n",
    "        for t, (state, action, reward, next_state, done) in enumerate(trajectory):\n",
    "            if first_visit and visited[state, action]:\n",
    "                continue\n",
    "            visited[state, action] = True\n",
    "            n_steps = len(trajectory)\n",
    "            G = np.sum(discounts[:n_steps]*trajectory[t:, 2])\n",
    "            Q[state, action] += alphas[e]*(G - Q[state, action])\n",
    "\n",
    "        Q_track[e] = Q.copy()\n",
    "        pi_track.append(np.argmax(Q, axis=1))\n",
    "    V = np.max(Q, axis=1)\n",
    "    pi = lambda s: {s:a for s, a in enumerate(np.argmax(Q, axis=1))}[s]\n",
    "    return Q, V, pi, Q_track, pi_track\n",
    "\n",
    "\n"
   ]
  },
  {
   "cell_type": "code",
   "execution_count": 484,
   "id": "9b6109a5",
   "metadata": {},
   "outputs": [
    {
     "data": {
      "application/vnd.jupyter.widget-view+json": {
       "model_id": "d4f557ba20804a5192a440d3ed10700c",
       "version_major": 2,
       "version_minor": 0
      },
      "text/plain": [
       "HBox(children=(FloatProgress(value=0.0, description='All seeds', max=5.0, style=ProgressStyle(description_widt…"
      ]
     },
     "metadata": {},
     "output_type": "display_data"
    },
    {
     "data": {
      "application/vnd.jupyter.widget-view+json": {
       "model_id": "788946f00bc741d993a72911b473ce87",
       "version_major": 2,
       "version_minor": 0
      },
      "text/plain": [
       "HBox(children=(FloatProgress(value=0.0, max=3000.0), HTML(value='')))"
      ]
     },
     "metadata": {},
     "output_type": "display_data"
    },
    {
     "data": {
      "application/vnd.jupyter.widget-view+json": {
       "model_id": "8f7d06facb614625bef902471b0e8cfa",
       "version_major": 2,
       "version_minor": 0
      },
      "text/plain": [
       "HBox(children=(FloatProgress(value=0.0, max=3000.0), HTML(value='')))"
      ]
     },
     "metadata": {},
     "output_type": "display_data"
    },
    {
     "data": {
      "application/vnd.jupyter.widget-view+json": {
       "model_id": "b64f2928783d422a96c34b53e09086e5",
       "version_major": 2,
       "version_minor": 0
      },
      "text/plain": [
       "HBox(children=(FloatProgress(value=0.0, max=3000.0), HTML(value='')))"
      ]
     },
     "metadata": {},
     "output_type": "display_data"
    },
    {
     "data": {
      "application/vnd.jupyter.widget-view+json": {
       "model_id": "5d7bcb7a694c436585e2fadd57d6c296",
       "version_major": 2,
       "version_minor": 0
      },
      "text/plain": [
       "HBox(children=(FloatProgress(value=0.0, max=3000.0), HTML(value='')))"
      ]
     },
     "metadata": {},
     "output_type": "display_data"
    },
    {
     "data": {
      "application/vnd.jupyter.widget-view+json": {
       "model_id": "e05e92eeb0404ad18e72fea4216f08ec",
       "version_major": 2,
       "version_minor": 0
      },
      "text/plain": [
       "HBox(children=(FloatProgress(value=0.0, max=3000.0), HTML(value='')))"
      ]
     },
     "metadata": {},
     "output_type": "display_data"
    },
    {
     "name": "stdout",
     "output_type": "stream",
     "text": [
      "\n"
     ]
    }
   ],
   "source": [
    "Q_mcs, V_mcs, Q_track_mcs = [], [], []\n",
    "for seed in tqdm(SEEDS, desc='All seeds', leave=True):\n",
    "    random.seed(seed); np.random.seed(seed) ; env.seed(seed)\n",
    "    Q_mc, V_mc, pi_mc, Q_track_mc, pi_track_mc = mc_control(env, gamma=gamma, n_episodes=n_episodes)\n",
    "    Q_mcs.append(Q_mc) ; V_mcs.append(V_mc) ; Q_track_mcs.append(Q_track_mc)\n",
    "Q_mc, V_mc, Q_track_mc = np.mean(Q_mcs, axis=0), np.mean(V_mcs, axis=0), np.mean(Q_track_mcs, axis=0)\n",
    "del Q_mcs ; del V_mcs ; del Q_track_mcs"
   ]
  },
  {
   "cell_type": "code",
   "execution_count": 485,
   "id": "9c1da1bb",
   "metadata": {},
   "outputs": [
    {
     "name": "stdout",
     "output_type": "stream",
     "text": [
      "State-value function found by FVMC:\n",
      "|           | 01 0.4895 | 02 0.7209 | 03 0.8311 | 04 0.8766 | 05 0.9137 | 06 0.9463 | 07 0.9788 |           |\n",
      "Optimal state-value function:\n",
      "|           | 01 0.5637 | 02  0.763 | 03 0.8449 | 04 0.8892 | 05  0.922 | 06 0.9515 | 07 0.9806 |           |\n",
      "State-value function errors:\n",
      "|           | 01  -0.07 | 02  -0.04 | 03  -0.01 | 04  -0.01 | 05  -0.01 | 06  -0.01 | 07   -0.0 |           |\n",
      "State-value function RMSE: 0.0293\n",
      "\n",
      "FVMC action-value function:\n",
      "╒═════╤═══════╤═══════╤═══════╤═══════╤═════════╤═════════╕\n",
      "│   s │     < │     > │   * < │   * > │   err < │   err > │\n",
      "╞═════╪═══════╪═══════╪═══════╪═══════╪═════════╪═════════╡\n",
      "│   0 │ 0     │ 0     │ 0     │ 0     │   0     │   0     │\n",
      "├─────┼───────┼───────┼───────┼───────┼─────────┼─────────┤\n",
      "│   1 │ 0.194 │ 0.489 │ 0.312 │ 0.564 │   0.118 │   0.074 │\n",
      "├─────┼───────┼───────┼───────┼───────┼─────────┼─────────┤\n",
      "│   2 │ 0.549 │ 0.721 │ 0.67  │ 0.763 │   0.121 │   0.042 │\n",
      "├─────┼───────┼───────┼───────┼───────┼─────────┼─────────┤\n",
      "│   3 │ 0.73  │ 0.831 │ 0.803 │ 0.845 │   0.073 │   0.014 │\n",
      "├─────┼───────┼───────┼───────┼───────┼─────────┼─────────┤\n",
      "│   4 │ 0.843 │ 0.877 │ 0.864 │ 0.889 │   0.021 │   0.013 │\n",
      "├─────┼───────┼───────┼───────┼───────┼─────────┼─────────┤\n",
      "│   5 │ 0.883 │ 0.914 │ 0.901 │ 0.922 │   0.019 │   0.008 │\n",
      "├─────┼───────┼───────┼───────┼───────┼─────────┼─────────┤\n",
      "│   6 │ 0.925 │ 0.946 │ 0.932 │ 0.952 │   0.007 │   0.005 │\n",
      "├─────┼───────┼───────┼───────┼───────┼─────────┼─────────┤\n",
      "│   7 │ 0.955 │ 0.979 │ 0.961 │ 0.981 │   0.006 │   0.002 │\n",
      "├─────┼───────┼───────┼───────┼───────┼─────────┼─────────┤\n",
      "│   8 │ 0     │ 0     │ 0     │ 0     │   0     │   0     │\n",
      "╘═════╧═══════╧═══════╧═══════╧═══════╧═════════╧═════════╛\n",
      "Action-value function RMSE: 0.0486\n",
      "\n",
      "Policy:\n",
      "|           | 01      > | 02      > | 03      > | 04      > | 05      > | 06      > | 07      > |           |\n",
      "Reaches goal 96.00%. Obtains an average return of 0.8548. Regret of 0.0000\n"
     ]
    }
   ],
   "source": [
    "print_state_value_function(V_mc, P, n_cols=n_cols, \n",
    "                           prec=svf_prec, title='State-value function found by FVMC:')\n",
    "print_state_value_function(optimal_V, P, n_cols=n_cols, \n",
    "                           prec=svf_prec, title='Optimal state-value function:')\n",
    "print_state_value_function(V_mc - optimal_V, P, n_cols=n_cols, \n",
    "                           prec=err_prec, title='State-value function errors:')\n",
    "print('State-value function RMSE: {}'.format(rmse(V_mc, optimal_V)))\n",
    "print()\n",
    "print_action_value_function(Q_mc, \n",
    "                            optimal_Q, \n",
    "                            action_symbols=action_symbols, \n",
    "                            prec=avf_prec, \n",
    "                            title='FVMC action-value function:')\n",
    "print('Action-value function RMSE: {}'.format(rmse(Q_mc, optimal_Q)))\n",
    "print()\n",
    "print_policy(pi_mc, P, action_symbols=action_symbols, n_cols=n_cols)\n",
    "success_rate_mc, mean_return_mc, mean_regret_mc = get_policy_metrics(\n",
    "    env, gamma=gamma, pi=pi_mc, goal_state=goal_state, optimal_Q=optimal_Q)\n",
    "print('Reaches goal {:.2f}%. Obtains an average return of {:.4f}. Regret of {:.4f}'.format(\n",
    "    success_rate_mc, mean_return_mc, mean_regret_mc))"
   ]
  },
  {
   "cell_type": "markdown",
   "id": "9376b7ff",
   "metadata": {},
   "source": [
    "### Sarsa"
   ]
  },
  {
   "cell_type": "code",
   "execution_count": 488,
   "id": "71f37849",
   "metadata": {},
   "outputs": [],
   "source": [
    "def sarsa(env,\n",
    "          gamma=1.0,\n",
    "          init_alpha=0.5,\n",
    "          min_alpha=0.01,\n",
    "          alpha_decay_ratio=0.5,\n",
    "          init_epsilon=1.0,\n",
    "          min_epsilon=0.1,\n",
    "          epsilon_decay_ratio=0.9,\n",
    "          n_episodes=3000):\n",
    "    nS, nA = env.observation_space.n, env.action_space.n\n",
    "    pi_track = []\n",
    "    Q = np.zeros((nS, nA), dtype=np.float64)\n",
    "    Q_track = np.zeros((n_episodes, nS, nA), dtype=np.float64)\n",
    "    select_action = lambda state, Q, epsilon: np.argmax(Q[state]) \\\n",
    "        if np.random.random() > epsilon \\\n",
    "        else np.random.randint(len(Q[state]))\n",
    "    alphas = decay_schedule(init_alpha, \n",
    "                           min_alpha, \n",
    "                           alpha_decay_ratio, \n",
    "                           n_episodes)\n",
    "    epsilons = decay_schedule(init_epsilon, \n",
    "                              min_epsilon, \n",
    "                              epsilon_decay_ratio, \n",
    "                              n_episodes)\n",
    "    \n",
    "    for e in tqdm(range(n_episodes), leave=False):\n",
    "        state, done = env.reset(), False\n",
    "        action = select_action(state, Q, epsilons[e])\n",
    "        while not done:\n",
    "            next_state, reward, done, _ = env.step(action)\n",
    "            next_action = select_action(next_state, Q, epsilons[e])\n",
    "            td_target = reward + gamma * Q[next_state][next_action] * (not done)\n",
    "            td_error = td_target - Q[state][action]\n",
    "            Q[state][action] = Q[state][action] + alphas[e] * td_error\n",
    "            state, action = next_state, next_action\n",
    "        Q_track[e] = Q\n",
    "        pi_track.append(np.argmax(Q, axis=1))\n",
    "\n",
    "    V = np.max(Q, axis=1)\n",
    "    pi = lambda s: {s:a for s, a in enumerate(np.argmax(Q, axis=1))}[s]\n",
    "    return Q, V, pi, Q_track, pi_track"
   ]
  },
  {
   "cell_type": "code",
   "execution_count": 489,
   "id": "6f360213",
   "metadata": {},
   "outputs": [
    {
     "data": {
      "application/vnd.jupyter.widget-view+json": {
       "model_id": "64e2af1c3b5047899f8f711491030f8f",
       "version_major": 2,
       "version_minor": 0
      },
      "text/plain": [
       "HBox(children=(FloatProgress(value=0.0, description='All seeds', max=5.0, style=ProgressStyle(description_widt…"
      ]
     },
     "metadata": {},
     "output_type": "display_data"
    },
    {
     "data": {
      "application/vnd.jupyter.widget-view+json": {
       "model_id": "22a13880237b435587e854ca7b0db617",
       "version_major": 2,
       "version_minor": 0
      },
      "text/plain": [
       "HBox(children=(FloatProgress(value=0.0, max=3000.0), HTML(value='')))"
      ]
     },
     "metadata": {},
     "output_type": "display_data"
    },
    {
     "data": {
      "application/vnd.jupyter.widget-view+json": {
       "model_id": "7c5405b4fa19435f9d129ba49a86c743",
       "version_major": 2,
       "version_minor": 0
      },
      "text/plain": [
       "HBox(children=(FloatProgress(value=0.0, max=3000.0), HTML(value='')))"
      ]
     },
     "metadata": {},
     "output_type": "display_data"
    },
    {
     "data": {
      "application/vnd.jupyter.widget-view+json": {
       "model_id": "fc09d66f68d54ad08f07f885a0782d6b",
       "version_major": 2,
       "version_minor": 0
      },
      "text/plain": [
       "HBox(children=(FloatProgress(value=0.0, max=3000.0), HTML(value='')))"
      ]
     },
     "metadata": {},
     "output_type": "display_data"
    },
    {
     "data": {
      "application/vnd.jupyter.widget-view+json": {
       "model_id": "e8effa90ccf149dfa7fcb8eed8f49b36",
       "version_major": 2,
       "version_minor": 0
      },
      "text/plain": [
       "HBox(children=(FloatProgress(value=0.0, max=3000.0), HTML(value='')))"
      ]
     },
     "metadata": {},
     "output_type": "display_data"
    },
    {
     "data": {
      "application/vnd.jupyter.widget-view+json": {
       "model_id": "199bb4158fef4379b7078d4fea9cdd9c",
       "version_major": 2,
       "version_minor": 0
      },
      "text/plain": [
       "HBox(children=(FloatProgress(value=0.0, max=3000.0), HTML(value='')))"
      ]
     },
     "metadata": {},
     "output_type": "display_data"
    },
    {
     "name": "stdout",
     "output_type": "stream",
     "text": [
      "\n"
     ]
    }
   ],
   "source": [
    "Q_sarsas, V_sarsas, Q_track_sarsas = [], [], []\n",
    "for seed in tqdm(SEEDS, desc='All seeds', leave=True):\n",
    "    random.seed(seed); np.random.seed(seed) ; env.seed(seed)\n",
    "    Q_sarsa, V_sarsa, pi_sarsa, Q_track_sarsa, pi_track_sarsa = sarsa(env, gamma=gamma, n_episodes=n_episodes)\n",
    "    Q_sarsas.append(Q_sarsa) ; V_sarsas.append(V_sarsa) ; Q_track_sarsas.append(Q_track_sarsa)\n",
    "Q_sarsa = np.mean(Q_sarsas, axis=0)\n",
    "V_sarsa = np.mean(V_sarsas, axis=0)\n",
    "Q_track_sarsa = np.mean(Q_track_sarsas, axis=0)\n",
    "del Q_sarsas ; del V_sarsas ; del Q_track_sarsas"
   ]
  },
  {
   "cell_type": "code",
   "execution_count": 490,
   "id": "42f87a6f",
   "metadata": {},
   "outputs": [
    {
     "name": "stdout",
     "output_type": "stream",
     "text": [
      "State-value function found by Sarsa:\n",
      "|           | 01  0.461 | 02 0.6868 | 03  0.797 | 04  0.863 | 05 0.9075 | 06 0.9461 | 07 0.9767 |           |\n",
      "Optimal state-value function:\n",
      "|           | 01 0.5637 | 02  0.763 | 03 0.8449 | 04 0.8892 | 05  0.922 | 06 0.9515 | 07 0.9806 |           |\n",
      "State-value function errors:\n",
      "|           | 01   -0.1 | 02  -0.08 | 03  -0.05 | 04  -0.03 | 05  -0.01 | 06  -0.01 | 07   -0.0 |           |\n",
      "State-value function RMSE: 0.0467\n",
      "\n",
      "Sarsa action-value function:\n",
      "╒═════╤═══════╤═══════╤═══════╤═══════╤═════════╤═════════╕\n",
      "│   s │     < │     > │   * < │   * > │   err < │   err > │\n",
      "╞═════╪═══════╪═══════╪═══════╪═══════╪═════════╪═════════╡\n",
      "│   0 │ 0     │ 0     │ 0     │ 0     │   0     │   0     │\n",
      "├─────┼───────┼───────┼───────┼───────┼─────────┼─────────┤\n",
      "│   1 │ 0.163 │ 0.461 │ 0.312 │ 0.564 │   0.149 │   0.103 │\n",
      "├─────┼───────┼───────┼───────┼───────┼─────────┼─────────┤\n",
      "│   2 │ 0.5   │ 0.687 │ 0.67  │ 0.763 │   0.17  │   0.076 │\n",
      "├─────┼───────┼───────┼───────┼───────┼─────────┼─────────┤\n",
      "│   3 │ 0.7   │ 0.797 │ 0.803 │ 0.845 │   0.103 │   0.048 │\n",
      "├─────┼───────┼───────┼───────┼───────┼─────────┼─────────┤\n",
      "│   4 │ 0.817 │ 0.863 │ 0.864 │ 0.889 │   0.047 │   0.026 │\n",
      "├─────┼───────┼───────┼───────┼───────┼─────────┼─────────┤\n",
      "│   5 │ 0.874 │ 0.908 │ 0.901 │ 0.922 │   0.028 │   0.014 │\n",
      "├─────┼───────┼───────┼───────┼───────┼─────────┼─────────┤\n",
      "│   6 │ 0.917 │ 0.946 │ 0.932 │ 0.952 │   0.016 │   0.005 │\n",
      "├─────┼───────┼───────┼───────┼───────┼─────────┼─────────┤\n",
      "│   7 │ 0.951 │ 0.977 │ 0.961 │ 0.981 │   0.01  │   0.004 │\n",
      "├─────┼───────┼───────┼───────┼───────┼─────────┼─────────┤\n",
      "│   8 │ 0     │ 0     │ 0     │ 0     │   0     │   0     │\n",
      "╘═════╧═══════╧═══════╧═══════╧═══════╧═════════╧═════════╛\n",
      "Action-value function RMSE: 0.0687\n",
      "\n",
      "Policy:\n",
      "|           | 01      > | 02      > | 03      > | 04      > | 05      > | 06      > | 07      > |           |\n",
      "Reaches goal 96.00%. Obtains an average return of 0.8548. Regret of 0.0000\n"
     ]
    }
   ],
   "source": [
    "print_state_value_function(V_sarsa, P, n_cols=n_cols, \n",
    "                           prec=svf_prec, title='State-value function found by Sarsa:')\n",
    "print_state_value_function(optimal_V, P, n_cols=n_cols, \n",
    "                           prec=svf_prec, title='Optimal state-value function:')\n",
    "print_state_value_function(V_sarsa - optimal_V, P, n_cols=n_cols, \n",
    "                           prec=err_prec, title='State-value function errors:')\n",
    "print('State-value function RMSE: {}'.format(rmse(V_sarsa, optimal_V)))\n",
    "print()\n",
    "print_action_value_function(Q_sarsa, \n",
    "                            optimal_Q, \n",
    "                            action_symbols=action_symbols, \n",
    "                            prec=avf_prec, \n",
    "                            title='Sarsa action-value function:')\n",
    "print('Action-value function RMSE: {}'.format(rmse(Q_sarsa, optimal_Q)))\n",
    "print()\n",
    "print_policy(pi_sarsa, P, action_symbols=action_symbols, n_cols=n_cols)\n",
    "success_rate_sarsa, mean_return_sarsa, mean_regret_sarsa = get_policy_metrics(\n",
    "    env, gamma=gamma, pi=pi_sarsa, goal_state=goal_state, optimal_Q=optimal_Q)\n",
    "print('Reaches goal {:.2f}%. Obtains an average return of {:.4f}. Regret of {:.4f}'.format(\n",
    "    success_rate_sarsa, mean_return_sarsa, mean_regret_sarsa))"
   ]
  },
  {
   "cell_type": "markdown",
   "id": "9444f9a4",
   "metadata": {},
   "source": [
    "### Q-Learning"
   ]
  },
  {
   "cell_type": "code",
   "execution_count": 492,
   "id": "c6e4583a",
   "metadata": {},
   "outputs": [],
   "source": [
    "def q_learning(env, gamma = 1.0, init_alpha = 0.5, min_alpha = 0.01, alpha_decay_ratio = 0.5, init_epsilon = 1.0, min_epsilon = 0.1, epsilon_decay_ratio = 0.9, n_episodes = 3000):\n",
    "    nS, nA = env.observation_space.n, env.action_space.n \n",
    "    pi_track = []\n",
    "    Q = np.zeros((nS, nA), dtype=np.float64)\n",
    "    Q_track = np.zeros((n_episodes, nS, nA), dtype=np.float64)\n",
    "    select_action = lambda state, Q, epsilon: np.argmax(Q[state]) \\\n",
    "        if np.random.random() > epsilon \\\n",
    "        else np.random.randint(len(Q[state]))\n",
    "    alphas = decay_schedule(init_alpha,\n",
    "                           min_alpha,\n",
    "                           alpha_decay_ratio,\n",
    "                           n_episodes)\n",
    "    epsilons = decay_schedule(init_epsilon,\n",
    "                              min_epsilon,\n",
    "                              epsilon_decay_ratio,\n",
    "                              n_episodes)\n",
    "    \n",
    "    for e in tqdm(range(n_episodes), leave=False):\n",
    "        state, done = env.reset(), False\n",
    "        while not done: \n",
    "            action = select_action(state, Q, epsilons[e])\n",
    "            next_state, reward, done, _ = env.step(action)\n",
    "            td_target = reward + gamma* np.max(Q[next_state]) * (not done)\n",
    "            td_error = td_target - Q[state][action]\n",
    "            Q[state][action] += alphas[e]*td_error\n",
    "            state = next_state  \n",
    "\n",
    "        Q_track[e] = Q\n",
    "        pi_track.append(np.argmax(Q, axis=1))\n",
    "    V = np.max(Q, axis=1)\n",
    "    pi = lambda s: {s:a for s, a in enumerate(np.argmax(Q, axis=1))}[s]\n",
    "    return Q, V, pi, Q_track, pi_track"
   ]
  },
  {
   "cell_type": "code",
   "execution_count": 493,
   "id": "d50c044f",
   "metadata": {},
   "outputs": [
    {
     "data": {
      "application/vnd.jupyter.widget-view+json": {
       "model_id": "f8e93e9353744cf2ab5b18b64cc1a0e2",
       "version_major": 2,
       "version_minor": 0
      },
      "text/plain": [
       "HBox(children=(FloatProgress(value=0.0, description='All seeds', max=5.0, style=ProgressStyle(description_widt…"
      ]
     },
     "metadata": {},
     "output_type": "display_data"
    },
    {
     "data": {
      "application/vnd.jupyter.widget-view+json": {
       "model_id": "c9807a210d1c4b23be9c5d412f81142e",
       "version_major": 2,
       "version_minor": 0
      },
      "text/plain": [
       "HBox(children=(FloatProgress(value=0.0, max=3000.0), HTML(value='')))"
      ]
     },
     "metadata": {},
     "output_type": "display_data"
    },
    {
     "data": {
      "application/vnd.jupyter.widget-view+json": {
       "model_id": "705acdb6db394407bdb1bf1524cb29a2",
       "version_major": 2,
       "version_minor": 0
      },
      "text/plain": [
       "HBox(children=(FloatProgress(value=0.0, max=3000.0), HTML(value='')))"
      ]
     },
     "metadata": {},
     "output_type": "display_data"
    },
    {
     "data": {
      "application/vnd.jupyter.widget-view+json": {
       "model_id": "b9367b1a4cd445cbba2f7ca4358f4138",
       "version_major": 2,
       "version_minor": 0
      },
      "text/plain": [
       "HBox(children=(FloatProgress(value=0.0, max=3000.0), HTML(value='')))"
      ]
     },
     "metadata": {},
     "output_type": "display_data"
    },
    {
     "data": {
      "application/vnd.jupyter.widget-view+json": {
       "model_id": "4ad9f5a9c6764269b2b63a1b38fa5f99",
       "version_major": 2,
       "version_minor": 0
      },
      "text/plain": [
       "HBox(children=(FloatProgress(value=0.0, max=3000.0), HTML(value='')))"
      ]
     },
     "metadata": {},
     "output_type": "display_data"
    },
    {
     "data": {
      "application/vnd.jupyter.widget-view+json": {
       "model_id": "8d0f0fcb8daf4e069fab25d4d772aaab",
       "version_major": 2,
       "version_minor": 0
      },
      "text/plain": [
       "HBox(children=(FloatProgress(value=0.0, max=3000.0), HTML(value='')))"
      ]
     },
     "metadata": {},
     "output_type": "display_data"
    },
    {
     "name": "stdout",
     "output_type": "stream",
     "text": [
      "\n"
     ]
    }
   ],
   "source": [
    "Q_qls, V_qls, Q_track_qls = [], [], []\n",
    "for seed in tqdm(SEEDS, desc='All seeds', leave=True):\n",
    "    random.seed(seed); np.random.seed(seed) ; env.seed(seed)\n",
    "    Q_ql, V_ql, pi_ql, Q_track_ql, pi_track_ql = q_learning(env, gamma=gamma, n_episodes=n_episodes)\n",
    "    Q_qls.append(Q_ql) ; V_qls.append(V_ql) ; Q_track_qls.append(Q_track_ql)\n",
    "Q_ql = np.mean(Q_qls, axis=0)\n",
    "V_ql = np.mean(V_qls, axis=0)\n",
    "Q_track_ql = np.mean(Q_track_qls, axis=0)\n",
    "del Q_qls ; del V_qls ; del Q_track_qls"
   ]
  },
  {
   "cell_type": "code",
   "execution_count": 494,
   "id": "0d9bc981",
   "metadata": {},
   "outputs": [
    {
     "name": "stdout",
     "output_type": "stream",
     "text": [
      "State-value function found by Q-learning:\n",
      "|           | 01 0.5523 | 02  0.754 | 03 0.8432 | 04 0.8893 | 05 0.9215 | 06 0.9509 | 07   0.98 |           |\n",
      "Optimal state-value function:\n",
      "|           | 01 0.5637 | 02  0.763 | 03 0.8449 | 04 0.8892 | 05  0.922 | 06 0.9515 | 07 0.9806 |           |\n",
      "State-value function errors:\n",
      "|           | 01  -0.01 | 02  -0.01 | 03   -0.0 | 04    0.0 | 05   -0.0 | 06   -0.0 | 07   -0.0 |           |\n",
      "State-value function RMSE: 0.0049\n",
      "\n",
      "Q-learning action-value function:\n",
      "╒═════╤═══════╤═══════╤═══════╤═══════╤═════════╤═════════╕\n",
      "│   s │     < │     > │   * < │   * > │   err < │   err > │\n",
      "╞═════╪═══════╪═══════╪═══════╪═══════╪═════════╪═════════╡\n",
      "│   0 │ 0     │ 0     │ 0     │ 0     │   0     │   0     │\n",
      "├─────┼───────┼───────┼───────┼───────┼─────────┼─────────┤\n",
      "│   1 │ 0.303 │ 0.552 │ 0.312 │ 0.564 │   0.009 │   0.011 │\n",
      "├─────┼───────┼───────┼───────┼───────┼─────────┼─────────┤\n",
      "│   2 │ 0.659 │ 0.754 │ 0.67  │ 0.763 │   0.011 │   0.009 │\n",
      "├─────┼───────┼───────┼───────┼───────┼─────────┼─────────┤\n",
      "│   3 │ 0.795 │ 0.843 │ 0.803 │ 0.845 │   0.008 │   0.002 │\n",
      "├─────┼───────┼───────┼───────┼───────┼─────────┼─────────┤\n",
      "│   4 │ 0.864 │ 0.889 │ 0.864 │ 0.889 │  -0.001 │  -0     │\n",
      "├─────┼───────┼───────┼───────┼───────┼─────────┼─────────┤\n",
      "│   5 │ 0.901 │ 0.922 │ 0.901 │ 0.922 │   0     │   0     │\n",
      "├─────┼───────┼───────┼───────┼───────┼─────────┼─────────┤\n",
      "│   6 │ 0.932 │ 0.951 │ 0.932 │ 0.952 │   0     │   0.001 │\n",
      "├─────┼───────┼───────┼───────┼───────┼─────────┼─────────┤\n",
      "│   7 │ 0.961 │ 0.98  │ 0.961 │ 0.981 │  -0     │   0.001 │\n",
      "├─────┼───────┼───────┼───────┼───────┼─────────┼─────────┤\n",
      "│   8 │ 0     │ 0     │ 0     │ 0     │   0     │   0     │\n",
      "╘═════╧═══════╧═══════╧═══════╧═══════╧═════════╧═════════╛\n",
      "Action-value function RMSE: 0.0052\n",
      "\n",
      "Policy:\n",
      "|           | 01      > | 02      > | 03      > | 04      > | 05      > | 06      > | 07      > |           |\n",
      "Reaches goal 96.00%. Obtains an average return of 0.8548. Regret of 0.0000\n"
     ]
    }
   ],
   "source": [
    "print_state_value_function(V_ql, P, n_cols=n_cols, \n",
    "                           prec=svf_prec, title='State-value function found by Q-learning:')\n",
    "print_state_value_function(optimal_V, P, n_cols=n_cols, \n",
    "                           prec=svf_prec, title='Optimal state-value function:')\n",
    "print_state_value_function(V_ql - optimal_V, P, n_cols=n_cols, \n",
    "                           prec=err_prec, title='State-value function errors:')\n",
    "print('State-value function RMSE: {}'.format(rmse(V_ql, optimal_V)))\n",
    "print()\n",
    "print_action_value_function(Q_ql, \n",
    "                            optimal_Q, \n",
    "                            action_symbols=action_symbols, \n",
    "                            prec=avf_prec, \n",
    "                            title='Q-learning action-value function:')\n",
    "print('Action-value function RMSE: {}'.format(rmse(Q_ql, optimal_Q)))\n",
    "print()\n",
    "print_policy(pi_ql, P, action_symbols=action_symbols, n_cols=n_cols)\n",
    "success_rate_ql, mean_return_ql, mean_regret_ql = get_policy_metrics(\n",
    "    env, gamma=gamma, pi=pi_ql, goal_state=goal_state, optimal_Q=optimal_Q)\n",
    "print('Reaches goal {:.2f}%. Obtains an average return of {:.4f}. Regret of {:.4f}'.format(\n",
    "    success_rate_ql, mean_return_ql, mean_regret_ql))"
   ]
  },
  {
   "cell_type": "markdown",
   "id": "cc6f51e9",
   "metadata": {},
   "source": [
    "### Double Q-Learning"
   ]
  },
  {
   "cell_type": "code",
   "execution_count": 495,
   "id": "696d1d15",
   "metadata": {},
   "outputs": [],
   "source": [
    "def double_q_learning(env, gamma = 1.0, init_alpha = 0.5, min_alpha = 0.01, alpha_decay_ratio = 0.5, init_epsilon = 1.0, min_epsilon = 0.1, epsilon_decay_ratio = 0.9, n_episodes = 3000):\n",
    "    nS, nA = env.observation_space.n, env.action_space.n \n",
    "    pi_track = []\n",
    "\n",
    "    Q1 = np.zeros((nS, nA), dtype=np.float64)\n",
    "    Q2 = np.zeros((nS, nA), dtype=np.float64)   \n",
    "\n",
    "    Q_track1 = np.zeros((n_episodes, nS, nA), dtype=np.float64)\n",
    "    Q_track2 = np.zeros((n_episodes, nS, nA), dtype =np.float64)\n",
    "\n",
    "    select_action = lambda state, Q, epsilon: np.argmax(Q[state]) \\\n",
    "        if np.random.random() > epsilon \\\n",
    "        else np.random.randint(len(Q[state]))\n",
    "    \n",
    "    alphas = decay_schedule(init_alpha,\n",
    "                           min_alpha,\n",
    "                            alpha_decay_ratio,\n",
    "                            n_episodes)\n",
    "    epsilons = decay_schedule(init_epsilon,\n",
    "                              min_epsilon,\n",
    "                              epsilon_decay_ratio,\n",
    "                              n_episodes)\n",
    "    \n",
    "    for e in tqdm(range(n_episodes), leave=False):\n",
    "        state, done = env.reset(), False\n",
    "        while not done:\n",
    "            action = select_action(state, Q1 + Q2, epsilons[e])\n",
    "            next_state, reward, done, _ = env.step(action)\n",
    "\n",
    "            if np.random.randint(2):\n",
    "                td_target = reward + gamma * Q2[next_state][np.argmax(Q1[next_state])]*(not done)\n",
    "                td_error = td_target - Q1[state][action]\n",
    "                Q1[state][action] += alphas[e] * td_error\n",
    "            else:\n",
    "                td_target = reward + gamma * Q1[next_state][np.argmax(Q2[next_state])]*(not done)\n",
    "                td_error = td_target - Q2[state][action]\n",
    "                Q2[state][action] += alphas[e] * td_error\n",
    "            state = next_state\n",
    "\n",
    "        Q_track1[e] = Q1\n",
    "        Q_track2[e] = Q2\n",
    "        pi_track.append(np.argmax(Q1 + Q2, axis=1))\n",
    "\n",
    "    Q = (Q1 + Q2)/2\n",
    "    V = np.max(Q, axis=1)\n",
    "    pi = lambda s: {s:a for s, a in enumerate(np.argmax(Q, axis=1))}[s]\n",
    "    \n",
    "    return Q, V, pi, (Q_track1, Q_track2)/2, pi_track\n",
    "                        "
   ]
  },
  {
   "cell_type": "code",
   "execution_count": 496,
   "id": "7fa751b8",
   "metadata": {},
   "outputs": [
    {
     "data": {
      "application/vnd.jupyter.widget-view+json": {
       "model_id": "253c5f0ccd784789bb9d5942ce877b52",
       "version_major": 2,
       "version_minor": 0
      },
      "text/plain": [
       "HBox(children=(FloatProgress(value=0.0, description='All seeds', max=5.0, style=ProgressStyle(description_widt…"
      ]
     },
     "metadata": {},
     "output_type": "display_data"
    },
    {
     "data": {
      "application/vnd.jupyter.widget-view+json": {
       "model_id": "f4c497f7078f487d94bb066bf88b78a9",
       "version_major": 2,
       "version_minor": 0
      },
      "text/plain": [
       "HBox(children=(FloatProgress(value=0.0, max=3000.0), HTML(value='')))"
      ]
     },
     "metadata": {},
     "output_type": "display_data"
    },
    {
     "name": "stdout",
     "output_type": "stream",
     "text": [
      "\n"
     ]
    },
    {
     "ename": "TypeError",
     "evalue": "unsupported operand type(s) for /: 'tuple' and 'int'",
     "output_type": "error",
     "traceback": [
      "\u001b[0;31m---------------------------------------------------------------------------\u001b[0m",
      "\u001b[0;31mTypeError\u001b[0m                                 Traceback (most recent call last)",
      "\u001b[0;32m<ipython-input-496-c3b34c855ad0>\u001b[0m in \u001b[0;36m<module>\u001b[0;34m\u001b[0m\n\u001b[1;32m      2\u001b[0m \u001b[0;32mfor\u001b[0m \u001b[0mseed\u001b[0m \u001b[0;32min\u001b[0m \u001b[0mtqdm\u001b[0m\u001b[0;34m(\u001b[0m\u001b[0mSEEDS\u001b[0m\u001b[0;34m,\u001b[0m \u001b[0mdesc\u001b[0m\u001b[0;34m=\u001b[0m\u001b[0;34m'All seeds'\u001b[0m\u001b[0;34m,\u001b[0m \u001b[0mleave\u001b[0m\u001b[0;34m=\u001b[0m\u001b[0;32mTrue\u001b[0m\u001b[0;34m)\u001b[0m\u001b[0;34m:\u001b[0m\u001b[0;34m\u001b[0m\u001b[0;34m\u001b[0m\u001b[0m\n\u001b[1;32m      3\u001b[0m     \u001b[0mrandom\u001b[0m\u001b[0;34m.\u001b[0m\u001b[0mseed\u001b[0m\u001b[0;34m(\u001b[0m\u001b[0mseed\u001b[0m\u001b[0;34m)\u001b[0m\u001b[0;34m;\u001b[0m \u001b[0mnp\u001b[0m\u001b[0;34m.\u001b[0m\u001b[0mrandom\u001b[0m\u001b[0;34m.\u001b[0m\u001b[0mseed\u001b[0m\u001b[0;34m(\u001b[0m\u001b[0mseed\u001b[0m\u001b[0;34m)\u001b[0m \u001b[0;34m;\u001b[0m \u001b[0menv\u001b[0m\u001b[0;34m.\u001b[0m\u001b[0mseed\u001b[0m\u001b[0;34m(\u001b[0m\u001b[0mseed\u001b[0m\u001b[0;34m)\u001b[0m\u001b[0;34m\u001b[0m\u001b[0;34m\u001b[0m\u001b[0m\n\u001b[0;32m----> 4\u001b[0;31m     \u001b[0mQ_dql\u001b[0m\u001b[0;34m,\u001b[0m \u001b[0mV_dql\u001b[0m\u001b[0;34m,\u001b[0m \u001b[0mpi_dql\u001b[0m\u001b[0;34m,\u001b[0m \u001b[0mQ_track_dql\u001b[0m\u001b[0;34m,\u001b[0m \u001b[0mpi_track_dql\u001b[0m \u001b[0;34m=\u001b[0m \u001b[0mdouble_q_learning\u001b[0m\u001b[0;34m(\u001b[0m\u001b[0menv\u001b[0m\u001b[0;34m,\u001b[0m \u001b[0mgamma\u001b[0m\u001b[0;34m=\u001b[0m\u001b[0mgamma\u001b[0m\u001b[0;34m,\u001b[0m \u001b[0mn_episodes\u001b[0m\u001b[0;34m=\u001b[0m\u001b[0mn_episodes\u001b[0m\u001b[0;34m)\u001b[0m\u001b[0;34m\u001b[0m\u001b[0;34m\u001b[0m\u001b[0m\n\u001b[0m\u001b[1;32m      5\u001b[0m     \u001b[0mQ_dqls\u001b[0m\u001b[0;34m.\u001b[0m\u001b[0mappend\u001b[0m\u001b[0;34m(\u001b[0m\u001b[0mQ_dql\u001b[0m\u001b[0;34m)\u001b[0m \u001b[0;34m;\u001b[0m \u001b[0mV_dqls\u001b[0m\u001b[0;34m.\u001b[0m\u001b[0mappend\u001b[0m\u001b[0;34m(\u001b[0m\u001b[0mV_dql\u001b[0m\u001b[0;34m)\u001b[0m \u001b[0;34m;\u001b[0m \u001b[0mQ_track_dqls\u001b[0m\u001b[0;34m.\u001b[0m\u001b[0mappend\u001b[0m\u001b[0;34m(\u001b[0m\u001b[0mQ_track_dql\u001b[0m\u001b[0;34m)\u001b[0m\u001b[0;34m\u001b[0m\u001b[0;34m\u001b[0m\u001b[0m\n\u001b[1;32m      6\u001b[0m \u001b[0mQ_dql\u001b[0m\u001b[0;34m,\u001b[0m \u001b[0mV_dql\u001b[0m\u001b[0;34m,\u001b[0m \u001b[0mQ_track_dql\u001b[0m \u001b[0;34m=\u001b[0m \u001b[0mnp\u001b[0m\u001b[0;34m.\u001b[0m\u001b[0mmean\u001b[0m\u001b[0;34m(\u001b[0m\u001b[0mQ_dqls\u001b[0m\u001b[0;34m,\u001b[0m \u001b[0maxis\u001b[0m\u001b[0;34m=\u001b[0m\u001b[0;36m0\u001b[0m\u001b[0;34m)\u001b[0m\u001b[0;34m,\u001b[0m \u001b[0mnp\u001b[0m\u001b[0;34m.\u001b[0m\u001b[0mmean\u001b[0m\u001b[0;34m(\u001b[0m\u001b[0mV_dqls\u001b[0m\u001b[0;34m,\u001b[0m \u001b[0maxis\u001b[0m\u001b[0;34m=\u001b[0m\u001b[0;36m0\u001b[0m\u001b[0;34m)\u001b[0m\u001b[0;34m,\u001b[0m \u001b[0mnp\u001b[0m\u001b[0;34m.\u001b[0m\u001b[0mmean\u001b[0m\u001b[0;34m(\u001b[0m\u001b[0mQ_track_dqls\u001b[0m\u001b[0;34m,\u001b[0m \u001b[0maxis\u001b[0m\u001b[0;34m=\u001b[0m\u001b[0;36m0\u001b[0m\u001b[0;34m)\u001b[0m\u001b[0;34m\u001b[0m\u001b[0;34m\u001b[0m\u001b[0m\n",
      "\u001b[0;32m<ipython-input-495-4c033bb2dded>\u001b[0m in \u001b[0;36mdouble_q_learning\u001b[0;34m(env, gamma, init_alpha, min_alpha, alpha_decay_ratio, init_epsilon, min_epsilon, epsilon_decay_ratio, n_episodes)\u001b[0m\n\u001b[1;32m     46\u001b[0m     \u001b[0mpi\u001b[0m \u001b[0;34m=\u001b[0m \u001b[0;32mlambda\u001b[0m \u001b[0ms\u001b[0m\u001b[0;34m:\u001b[0m \u001b[0;34m{\u001b[0m\u001b[0ms\u001b[0m\u001b[0;34m:\u001b[0m\u001b[0ma\u001b[0m \u001b[0;32mfor\u001b[0m \u001b[0ms\u001b[0m\u001b[0;34m,\u001b[0m \u001b[0ma\u001b[0m \u001b[0;32min\u001b[0m \u001b[0menumerate\u001b[0m\u001b[0;34m(\u001b[0m\u001b[0mnp\u001b[0m\u001b[0;34m.\u001b[0m\u001b[0margmax\u001b[0m\u001b[0;34m(\u001b[0m\u001b[0mQ\u001b[0m\u001b[0;34m,\u001b[0m \u001b[0maxis\u001b[0m\u001b[0;34m=\u001b[0m\u001b[0;36m1\u001b[0m\u001b[0;34m)\u001b[0m\u001b[0;34m)\u001b[0m\u001b[0;34m}\u001b[0m\u001b[0;34m[\u001b[0m\u001b[0ms\u001b[0m\u001b[0;34m]\u001b[0m\u001b[0;34m\u001b[0m\u001b[0;34m\u001b[0m\u001b[0m\n\u001b[1;32m     47\u001b[0m \u001b[0;34m\u001b[0m\u001b[0m\n\u001b[0;32m---> 48\u001b[0;31m     \u001b[0;32mreturn\u001b[0m \u001b[0mQ\u001b[0m\u001b[0;34m,\u001b[0m \u001b[0mV\u001b[0m\u001b[0;34m,\u001b[0m \u001b[0mpi\u001b[0m\u001b[0;34m,\u001b[0m \u001b[0;34m(\u001b[0m\u001b[0mQ_track1\u001b[0m\u001b[0;34m,\u001b[0m \u001b[0mQ_track2\u001b[0m\u001b[0;34m)\u001b[0m\u001b[0;34m/\u001b[0m\u001b[0;36m2\u001b[0m\u001b[0;34m,\u001b[0m \u001b[0mpi_track\u001b[0m\u001b[0;34m\u001b[0m\u001b[0;34m\u001b[0m\u001b[0m\n\u001b[0m\u001b[1;32m     49\u001b[0m \u001b[0;34m\u001b[0m\u001b[0m\n",
      "\u001b[0;31mTypeError\u001b[0m: unsupported operand type(s) for /: 'tuple' and 'int'"
     ]
    }
   ],
   "source": [
    "Q_dqls, V_dqls, Q_track_dqls = [], [], []\n",
    "for seed in tqdm(SEEDS, desc='All seeds', leave=True):\n",
    "    random.seed(seed); np.random.seed(seed) ; env.seed(seed)\n",
    "    Q_dql, V_dql, pi_dql, Q_track_dql, pi_track_dql = double_q_learning(env, gamma=gamma, n_episodes=n_episodes)\n",
    "    Q_dqls.append(Q_dql) ; V_dqls.append(V_dql) ; Q_track_dqls.append(Q_track_dql)\n",
    "Q_dql, V_dql, Q_track_dql = np.mean(Q_dqls, axis=0), np.mean(V_dqls, axis=0), np.mean(Q_track_dqls, axis=0)\n",
    "del Q_dqls ; del V_dqls ; del Q_track_dqls"
   ]
  },
  {
   "cell_type": "code",
   "execution_count": null,
   "id": "0a92a6e4",
   "metadata": {},
   "outputs": [],
   "source": [
    "print_state_value_function(V_dql, P, n_cols=n_cols, \n",
    "                           prec=svf_prec, title='State-value function found by Double Q-Learning:')\n",
    "print_state_value_function(optimal_V, P, n_cols=n_cols, \n",
    "                           prec=svf_prec, title='Optimal state-value function:')\n",
    "print_state_value_function(V_dql - optimal_V, P, n_cols=n_cols, \n",
    "                           prec=err_prec, title='State-value function errors:')\n",
    "print('State-value function RMSE: {}'.format(rmse(V_dql, optimal_V)))\n",
    "print()\n",
    "print_action_value_function(Q_dql, \n",
    "                            optimal_Q, \n",
    "                            action_symbols=action_symbols, \n",
    "                            prec=avf_prec, \n",
    "                            title='Double Q-Learning action-value function:')\n",
    "print('Action-value function RMSE: {}'.format(rmse(Q_dql, optimal_Q)))\n",
    "print()\n",
    "print_policy(pi_dql, P, action_symbols=action_symbols, n_cols=n_cols)\n",
    "success_rate_dql, mean_return_dql, mean_regret_dql = get_policy_metrics(\n",
    "    env, gamma=gamma, pi=pi_dql, goal_state=goal_state, optimal_Q=optimal_Q)\n",
    "print('Reaches goal {:.2f}%. Obtains an average return of {:.4f}. Regret of {:.4f}'.format(\n",
    "    success_rate_dql, mean_return_dql, mean_regret_dql))"
   ]
  },
  {
   "cell_type": "code",
   "execution_count": null,
   "id": "e93f0473",
   "metadata": {},
   "outputs": [],
   "source": []
  }
 ],
 "metadata": {
  "kernelspec": {
   "display_name": "Python 3",
   "language": "python",
   "name": "python3"
  }
 },
 "nbformat": 4,
 "nbformat_minor": 5
}
