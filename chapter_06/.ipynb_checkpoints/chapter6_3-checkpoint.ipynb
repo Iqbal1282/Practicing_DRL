{
 "cells": [
  {
   "cell_type": "code",
   "execution_count": 1,
   "metadata": {},
   "outputs": [],
   "source": [
    "import warnings ; warnings.filterwarnings('ignore')\n",
    "\n",
    "import itertools\n",
    "import gym, gym_walk, gym_aima\n",
    "import numpy as np\n",
    "from tabulate import tabulate\n",
    "from pprint import pprint\n",
    "from tqdm import tqdm_notebook as tqdm\n",
    "\n",
    "from itertools import cycle, count\n",
    "\n",
    "import random\n",
    "import matplotlib\n",
    "import matplotlib.pyplot as plt\n",
    "import matplotlib.pylab as pylab\n",
    "SEEDS = (12, 34, 56, 78, 90)\n",
    "\n",
    "%matplotlib inline"
   ]
  },
  {
   "cell_type": "code",
   "execution_count": 2,
   "metadata": {},
   "outputs": [],
   "source": [
    "plt.style.use('fivethirtyeight')\n",
    "params = {\n",
    "    'figure.figsize': (15, 8),\n",
    "    'font.size': 24,\n",
    "    'legend.fontsize': 20,\n",
    "    'axes.titlesize': 28,\n",
    "    'axes.labelsize': 24,\n",
    "    'xtick.labelsize': 20,\n",
    "    'ytick.labelsize': 20\n",
    "}\n",
    "pylab.rcParams.update(params)\n",
    "np.set_printoptions(suppress=True)"
   ]
  },
  {
   "cell_type": "code",
   "execution_count": 3,
   "metadata": {},
   "outputs": [],
   "source": [
    "def value_iteration(P, gamma=1.0, theta=1e-10):\n",
    "    V = np.zeros(len(P), dtype=np.float64)\n",
    "    while True:\n",
    "        Q = np.zeros((len(P), len(P[0])), dtype=np.float64)\n",
    "        for s in range(len(P)):\n",
    "            for a in range(len(P[s])):\n",
    "                for prob, next_state, reward, done in P[s][a]:\n",
    "                    Q[s][a] += prob * (reward + gamma * V[next_state] * (not done))\n",
    "        if np.max(np.abs(V - np.max(Q, axis=1))) < theta:\n",
    "            break\n",
    "        V = np.max(Q, axis=1)\n",
    "    pi = lambda s: {s:a for s, a in enumerate(np.argmax(Q, axis=1))}[s]\n",
    "    return Q, V, pi"
   ]
  },
  {
   "cell_type": "code",
   "execution_count": 4,
   "metadata": {},
   "outputs": [],
   "source": [
    "def print_policy(pi, P, action_symbols=('<', 'v', '>', '^'), n_cols=4, title='Policy:'):\n",
    "    print(title)\n",
    "    arrs = {k:v for k,v in enumerate(action_symbols)}\n",
    "    for s in range(len(P)):\n",
    "        a = pi(s)\n",
    "        print(\"| \", end=\"\")\n",
    "        if np.all([done for action in P[s].values() for _, _, _, done in action]):\n",
    "            print(\"\".rjust(9), end=\" \")\n",
    "        else:\n",
    "            print(str(s).zfill(2), arrs[a].rjust(6), end=\" \")\n",
    "        if (s + 1) % n_cols == 0: print(\"|\")"
   ]
  },
  {
   "cell_type": "code",
   "execution_count": 5,
   "metadata": {},
   "outputs": [],
   "source": [
    "def print_state_value_function(V, P, n_cols=4, prec=3, title='State-value function:'):\n",
    "    print(title)\n",
    "    for s in range(len(P)):\n",
    "        v = V[s]\n",
    "        print(\"| \", end=\"\")\n",
    "        if np.all([done for action in P[s].values() for _, _, _, done in action]):\n",
    "            print(\"\".rjust(9), end=\" \")\n",
    "        else:\n",
    "            print(str(s).zfill(2), '{}'.format(np.round(v, prec)).rjust(6), end=\" \")\n",
    "        if (s + 1) % n_cols == 0: print(\"|\")"
   ]
  },
  {
   "cell_type": "code",
   "execution_count": 6,
   "metadata": {},
   "outputs": [],
   "source": [
    "def print_action_value_function(Q, \n",
    "                                optimal_Q=None, \n",
    "                                action_symbols=('<', '>'), \n",
    "                                prec=3, \n",
    "                                title='Action-value function:'):\n",
    "    vf_types=('',) if optimal_Q is None else ('', '*', 'err')\n",
    "    headers = ['s',] + [' '.join(i) for i in list(itertools.product(vf_types, action_symbols))]\n",
    "    print(title)\n",
    "    states = np.arange(len(Q))[..., np.newaxis]\n",
    "    arr = np.hstack((states, np.round(Q, prec)))\n",
    "    if not (optimal_Q is None):\n",
    "        arr = np.hstack((arr, np.round(optimal_Q, prec), np.round(optimal_Q-Q, prec)))\n",
    "    print(tabulate(arr, headers, tablefmt=\"fancy_grid\"))"
   ]
  },
  {
   "cell_type": "code",
   "execution_count": 7,
   "metadata": {},
   "outputs": [],
   "source": [
    "def get_policy_metrics(env, gamma, pi, goal_state, optimal_Q, \n",
    "                       n_episodes=100, max_steps=200):\n",
    "    random.seed(123); np.random.seed(123) ; env.seed(123)\n",
    "    reached_goal, episode_reward, episode_regret = [], [], []\n",
    "    for _ in range(n_episodes):\n",
    "        state, done, steps = env.reset(), False, 0\n",
    "        episode_reward.append(0.0)\n",
    "        episode_regret.append(0.0)\n",
    "        while not done and steps < max_steps:\n",
    "            action = pi(state)\n",
    "            regret = np.max(optimal_Q[state]) - optimal_Q[state][action]\n",
    "            episode_regret[-1] += regret\n",
    "            \n",
    "            state, reward, done, _ = env.step(action)\n",
    "            episode_reward[-1] += (gamma**steps * reward)\n",
    "            \n",
    "            steps += 1\n",
    "\n",
    "        reached_goal.append(state == goal_state)\n",
    "    results = np.array((np.sum(reached_goal)/len(reached_goal)*100, \n",
    "                        np.mean(episode_reward), \n",
    "                        np.mean(episode_regret)))\n",
    "    return results"
   ]
  },
  {
   "cell_type": "code",
   "execution_count": 8,
   "metadata": {},
   "outputs": [],
   "source": [
    "def get_metrics_from_tracks(env, gamma, goal_state, optimal_Q, pi_track, coverage=0.1):\n",
    "    total_samples = len(pi_track)\n",
    "    n_samples = int(total_samples * coverage)\n",
    "    samples_e = np.linspace(0, total_samples, n_samples, endpoint=True, dtype=np.int)\n",
    "    metrics = []\n",
    "    for e, pi in enumerate(tqdm(pi_track)):\n",
    "        if e in samples_e:\n",
    "            metrics.append(get_policy_metrics(\n",
    "                env, \n",
    "                gamma=gamma, \n",
    "                pi=lambda s: pi[s], \n",
    "                goal_state=goal_state, \n",
    "                optimal_Q=optimal_Q))\n",
    "        else:\n",
    "            metrics.append(metrics[-1])\n",
    "    metrics = np.array(metrics)\n",
    "    success_rate_ma, mean_return_ma, mean_regret_ma = np.apply_along_axis(moving_average, axis=0, arr=metrics).T\n",
    "    return success_rate_ma, mean_return_ma, mean_regret_ma "
   ]
  },
  {
   "cell_type": "code",
   "execution_count": 9,
   "metadata": {},
   "outputs": [],
   "source": [
    "def rmse(x, y, dp=4):\n",
    "    return np.round(np.sqrt(np.mean((x - y)**2)), dp)"
   ]
  },
  {
   "cell_type": "code",
   "execution_count": 10,
   "metadata": {},
   "outputs": [],
   "source": [
    "def moving_average(a, n=100) :\n",
    "    ret = np.cumsum(a, dtype=float)\n",
    "    ret[n:] = ret[n:] - ret[:-n]\n",
    "    return ret[n - 1:] / n"
   ]
  },
  {
   "cell_type": "code",
   "execution_count": 11,
   "metadata": {},
   "outputs": [],
   "source": [
    "def plot_value_function(title, V_track, V_true=None, log=False, limit_value=0.05, limit_items=5):\n",
    "    np.random.seed(123)\n",
    "    per_col = 25\n",
    "    linecycler = cycle([\"-\",\"--\",\":\",\"-.\"])\n",
    "    legends = []\n",
    "\n",
    "    valid_values = np.argwhere(V_track[-1] > limit_value).squeeze()\n",
    "    items_idxs = np.random.choice(valid_values, \n",
    "                                  min(len(valid_values), limit_items), \n",
    "                                  replace=False)\n",
    "    # draw the true values first\n",
    "    if V_true is not None:\n",
    "        for i, state in enumerate(V_track.T):\n",
    "            if i not in items_idxs:\n",
    "                continue\n",
    "            if state[-1] < limit_value:\n",
    "                continue\n",
    "\n",
    "            label = 'v*({})'.format(i)\n",
    "            plt.axhline(y=V_true[i], color='k', linestyle='-', linewidth=1)\n",
    "            plt.text(int(len(V_track)*1.02), V_true[i]+.01, label)\n",
    "\n",
    "    # then the estimates\n",
    "    for i, state in enumerate(V_track.T):\n",
    "        if i not in items_idxs:\n",
    "            continue\n",
    "        if state[-1] < limit_value:\n",
    "            continue\n",
    "        line_type = next(linecycler)\n",
    "        label = 'V({})'.format(i)\n",
    "        p, = plt.plot(state, line_type, label=label, linewidth=3)\n",
    "        legends.append(p)\n",
    "        \n",
    "    legends.reverse()\n",
    "\n",
    "    ls = []\n",
    "    for loc, idx in enumerate(range(0, len(legends), per_col)):\n",
    "        subset = legends[idx:idx+per_col]\n",
    "        l = plt.legend(subset, [p.get_label() for p in subset], \n",
    "                       loc='center right', bbox_to_anchor=(1.25, 0.5))\n",
    "        ls.append(l)\n",
    "    [plt.gca().add_artist(l) for l in ls[:-1]]\n",
    "    if log: plt.xscale('log')\n",
    "    plt.title(title)\n",
    "    plt.ylabel('State-value function')\n",
    "    plt.xlabel('Episodes (log scale)' if log else 'Episodes')\n",
    "    plt.show()"
   ]
  },
  {
   "cell_type": "code",
   "execution_count": 12,
   "metadata": {},
   "outputs": [],
   "source": [
    "def decay_schedule(init_value, min_value, decay_ratio, max_steps, log_start=-2, log_base=10):\n",
    "    decay_steps = int(max_steps * decay_ratio)\n",
    "    rem_steps = max_steps - decay_steps\n",
    "    values = np.logspace(log_start, 0, decay_steps, base=log_base, endpoint=True)[::-1]\n",
    "    values = (values - values.min()) / (values.max() - values.min())\n",
    "    values = (init_value - min_value) * values + min_value\n",
    "    values = np.pad(values, (0, rem_steps), 'edge')\n",
    "    return values"
   ]
  },
  {
   "cell_type": "markdown",
   "metadata": {},
   "source": [
    "### Slippery Walk Seven"
   ]
  },
  {
   "cell_type": "code",
   "execution_count": 13,
   "metadata": {},
   "outputs": [],
   "source": [
    "env = gym.make('SlipperyWalkSeven-v0')\n",
    "init_state = env.reset()\n",
    "goal_state = 8\n",
    "gamma = 0.99\n",
    "n_episodes = 3000\n",
    "P = env.env.P\n",
    "n_cols, svf_prec, err_prec, avf_prec=9, 4, 2, 3\n",
    "action_symbols=('<', '>')\n",
    "limit_items, limit_value = 5, 0.0\n",
    "cu_limit_items, cu_limit_value, cu_episodes = 10, 0.0, 100"
   ]
  },
  {
   "cell_type": "markdown",
   "metadata": {},
   "source": [
    "### Alpha and Epsilon schedules"
   ]
  },
  {
   "cell_type": "code",
   "execution_count": 14,
   "metadata": {},
   "outputs": [
    {
     "data": {
      "image/png": "[encoded data removed]",
      "text/plain": [
       "<Figure size 1080x576 with 1 Axes>"
      ]
     },
     "metadata": {},
     "output_type": "display_data"
    }
   ],
   "source": [
    "plt.plot(decay_schedule(0.5, 0.01, 0.5, n_episodes), \n",
    "         '-', linewidth=2, \n",
    "         label='Alpha schedule')\n",
    "plt.plot(decay_schedule(1.0, 0.1, 0.9, n_episodes), \n",
    "         ':', linewidth=2, \n",
    "         label='Epsilon schedule')\n",
    "plt.legend(loc=1, ncol=1)\n",
    "\n",
    "plt.title('Alpha and epsilon schedules')\n",
    "plt.xlabel('Episodes')\n",
    "plt.ylabel('Hyperparameter values')\n",
    "plt.xticks(rotation=45)\n",
    "\n",
    "plt.show()"
   ]
  },
  {
   "cell_type": "markdown",
   "metadata": {},
   "source": [
    "### Optimal value functions and policy"
   ]
  },
  {
   "cell_type": "code",
   "execution_count": 15,
   "metadata": {},
   "outputs": [
    {
     "name": "stdout",
     "output_type": "stream",
     "text": [
      "Optimal state-value function:\n",
      "|           | 01 0.5637 | 02  0.763 | 03 0.8449 | 04 0.8892 | 05  0.922 | 06 0.9515 | 07 0.9806 |           |\n",
      "\n",
      "Optimal action-value function:\n",
      "╒═════╤═══════╤═══════╕\n",
      "│   s │     < │     > │\n",
      "╞═════╪═══════╪═══════╡\n",
      "│   0 │ 0     │ 0     │\n",
      "├─────┼───────┼───────┤\n",
      "│   1 │ 0.312 │ 0.564 │\n",
      "├─────┼───────┼───────┤\n",
      "│   2 │ 0.67  │ 0.763 │\n",
      "├─────┼───────┼───────┤\n",
      "│   3 │ 0.803 │ 0.845 │\n",
      "├─────┼───────┼───────┤\n",
      "│   4 │ 0.864 │ 0.889 │\n",
      "├─────┼───────┼───────┤\n",
      "│   5 │ 0.901 │ 0.922 │\n",
      "├─────┼───────┼───────┤\n",
      "│   6 │ 0.932 │ 0.952 │\n",
      "├─────┼───────┼───────┤\n",
      "│   7 │ 0.961 │ 0.981 │\n",
      "├─────┼───────┼───────┤\n",
      "│   8 │ 0     │ 0     │\n",
      "╘═════╧═══════╧═══════╛\n",
      "\n",
      "Policy:\n",
      "|           | 01      > | 02      > | 03      > | 04      > | 05      > | 06      > | 07      > |           |\n",
      "Reaches goal 96.00%. Obtains an average return of 0.8548. Regret of 0.0000\n"
     ]
    }
   ],
   "source": [
    "optimal_Q, optimal_V, optimal_pi = value_iteration(P, gamma=gamma)\n",
    "print_state_value_function(optimal_V, P, n_cols=n_cols, prec=svf_prec, title='Optimal state-value function:')\n",
    "print()\n",
    "\n",
    "print_action_value_function(optimal_Q, \n",
    "                            None, \n",
    "                            action_symbols=action_symbols, \n",
    "                            prec=avf_prec, \n",
    "                            title='Optimal action-value function:')\n",
    "print()\n",
    "print_policy(optimal_pi, P, action_symbols=action_symbols, n_cols=n_cols)\n",
    "success_rate_op, mean_return_op, mean_regret_op = get_policy_metrics(\n",
    "    env, gamma=gamma, pi=optimal_pi, goal_state=goal_state, optimal_Q=optimal_Q)\n",
    "print('Reaches goal {:.2f}%. Obtains an average return of {:.4f}. Regret of {:.4f}'.format(\n",
    "    success_rate_op, mean_return_op, mean_regret_op))"
   ]
  },
  {
   "cell_type": "code",
   "execution_count": 16,
   "metadata": {},
   "outputs": [],
   "source": [
    "def generate_trajectory(select_action, Q, epsilon, env, max_steps=200):\n",
    "    done, trajectory = False, []\n",
    "    while not done:\n",
    "        state = env.reset()\n",
    "        for t in count():\n",
    "            action = select_action(state, Q, epsilon)\n",
    "            next_state, reward, done, _ = env.step(action)\n",
    "            experience = (state, action, reward, next_state, done)\n",
    "            trajectory.append(experience)\n",
    "            if done:\n",
    "                break\n",
    "            if t >= max_steps - 1:\n",
    "                trajectory = []\n",
    "                break\n",
    "            state = next_state\n",
    "    return np.array(trajectory, np.object)"
   ]
  },
  {
   "cell_type": "code",
   "execution_count": 17,
   "metadata": {},
   "outputs": [],
   "source": [
    "def mc_control(env,\n",
    "               gamma=1.0,\n",
    "               init_alpha=0.5,\n",
    "               min_alpha=0.01,\n",
    "               alpha_decay_ratio=0.5,\n",
    "               init_epsilon=1.0,\n",
    "               min_epsilon=0.1,\n",
    "               epsilon_decay_ratio=0.9,\n",
    "               n_episodes=3000,\n",
    "               max_steps=200,\n",
    "               first_visit=True):\n",
    "    nS, nA = env.observation_space.n, env.action_space.n\n",
    "    discounts = np.logspace(0, \n",
    "                            max_steps, \n",
    "                            num=max_steps, \n",
    "                            base=gamma, \n",
    "                            endpoint=False) \n",
    "    alphas = decay_schedule(init_alpha, \n",
    "                           min_alpha, \n",
    "                           alpha_decay_ratio, \n",
    "                           n_episodes)\n",
    "    epsilons = decay_schedule(init_epsilon, \n",
    "                              min_epsilon, \n",
    "                              epsilon_decay_ratio, \n",
    "                              n_episodes)\n",
    "    pi_track = []\n",
    "    Q = np.zeros((nS, nA), dtype=np.float64)\n",
    "    Q_track = np.zeros((n_episodes, nS, nA), dtype=np.float64)\n",
    "    select_action = lambda state, Q, epsilon: np.argmax(Q[state]) \\\n",
    "        if np.random.random() > epsilon \\\n",
    "        else np.random.randint(len(Q[state]))\n",
    "\n",
    "    for e in tqdm(range(n_episodes), leave=False):\n",
    "        \n",
    "        trajectory = generate_trajectory(select_action,\n",
    "                                         Q,\n",
    "                                         epsilons[e],\n",
    "                                         env, \n",
    "                                         max_steps)\n",
    "        visited = np.zeros((nS, nA), dtype=np.bool)\n",
    "        for t, (state, action, reward, _, _) in enumerate(trajectory):\n",
    "            if visited[state][action] and first_visit:\n",
    "                continue\n",
    "            visited[state][action] = True\n",
    "            \n",
    "            n_steps = len(trajectory[t:])\n",
    "            G = np.sum(discounts[:n_steps] * trajectory[t:, 2])\n",
    "            Q[state][action] = Q[state][action] + alphas[e] * (G - Q[state][action])\n",
    "\n",
    "        Q_track[e] = Q\n",
    "        pi_track.append(np.argmax(Q, axis=1))\n",
    "\n",
    "    V = np.max(Q, axis=1)\n",
    "    pi = lambda s: {s:a for s, a in enumerate(np.argmax(Q, axis=1))}[s]\n",
    "    return Q, V, pi, Q_track, pi_track"
   ]
  },
  {
   "cell_type": "code",
   "execution_count": 18,
   "metadata": {},
   "outputs": [
    {
     "data": {
      "application/vnd.jupyter.widget-view+json": {
       "model_id": "cf97c84a02e0470f9ea846748e8b6315",
       "version_major": 2,
       "version_minor": 0
      },
      "text/plain": [
       "HBox(children=(FloatProgress(value=0.0, description='All seeds', max=5.0, style=ProgressStyle(description_widt…"
      ]
     },
     "metadata": {},
     "output_type": "display_data"
    },
    {
     "data": {
      "application/vnd.jupyter.widget-view+json": {
       "model_id": "",
       "version_major": 2,
       "version_minor": 0
      },
      "text/plain": [
       "HBox(children=(FloatProgress(value=0.0, max=3000.0), HTML(value='')))"
      ]
     },
     "metadata": {},
     "output_type": "display_data"
    },
    {
     "data": {
      "application/vnd.jupyter.widget-view+json": {
       "model_id": "",
       "version_major": 2,
       "version_minor": 0
      },
      "text/plain": [
       "HBox(children=(FloatProgress(value=0.0, max=3000.0), HTML(value='')))"
      ]
     },
     "metadata": {},
     "output_type": "display_data"
    },
    {
     "data": {
      "application/vnd.jupyter.widget-view+json": {
       "model_id": "",
       "version_major": 2,
       "version_minor": 0
      },
      "text/plain": [
       "HBox(children=(FloatProgress(value=0.0, max=3000.0), HTML(value='')))"
      ]
     },
     "metadata": {},
     "output_type": "display_data"
    },
    {
     "data": {
      "application/vnd.jupyter.widget-view+json": {
       "model_id": "",
       "version_major": 2,
       "version_minor": 0
      },
      "text/plain": [
       "HBox(children=(FloatProgress(value=0.0, max=3000.0), HTML(value='')))"
      ]
     },
     "metadata": {},
     "output_type": "display_data"
    },
    {
     "data": {
      "application/vnd.jupyter.widget-view+json": {
       "model_id": "",
       "version_major": 2,
       "version_minor": 0
      },
      "text/plain": [
       "HBox(children=(FloatProgress(value=0.0, max=3000.0), HTML(value='')))"
      ]
     },
     "metadata": {},
     "output_type": "display_data"
    },
    {
     "name": "stdout",
     "output_type": "stream",
     "text": [
      "\n"
     ]
    }
   ],
   "source": [
    "Q_mcs, V_mcs, Q_track_mcs = [], [], []\n",
    "for seed in tqdm(SEEDS, desc='All seeds', leave=True):\n",
    "    random.seed(seed); np.random.seed(seed) ; env.seed(seed)\n",
    "    Q_mc, V_mc, pi_mc, Q_track_mc, pi_track_mc = mc_control(env, gamma=gamma, n_episodes=n_episodes)\n",
    "    Q_mcs.append(Q_mc) ; V_mcs.append(V_mc) ; Q_track_mcs.append(Q_track_mc)\n",
    "Q_mc, V_mc, Q_track_mc = np.mean(Q_mcs, axis=0), np.mean(V_mcs, axis=0), np.mean(Q_track_mcs, axis=0)\n",
    "del Q_mcs ; del V_mcs ; del Q_track_mcs"
   ]
  },
  {
   "cell_type": "code",
   "execution_count": null,
   "metadata": {},
   "outputs": [],
   "source": []
  }
 ],
 "metadata": {
  "kernelspec": {
   "display_name": "Python 3",
   "language": "python",
   "name": "python3"
  },
  "language_info": {
   "codemirror_mode": {
    "name": "ipython",
    "version": 3
   },
   "file_extension": ".py",
   "mimetype": "text/x-python",
   "name": "python",
   "nbconvert_exporter": "python",
   "pygments_lexer": "ipython3",
   "version": "3.7.3"
  }
 },
 "nbformat": 4,
 "nbformat_minor": 5
}
