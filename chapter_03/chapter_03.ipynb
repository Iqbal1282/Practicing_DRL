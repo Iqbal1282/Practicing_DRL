{
 "cells": [
  {
   "cell_type": "code",
   "execution_count": 88,
   "id": "6f222984",
   "metadata": {},
   "outputs": [],
   "source": [
    "## POlicy iteration and Value iteration"
   ]
  },
  {
   "cell_type": "code",
   "execution_count": 89,
   "id": "48ab1670",
   "metadata": {},
   "outputs": [],
   "source": [
    "import warnings; warnings.filterwarnings('ignore')\n",
    "\n",
    "import gym, gym_walk, gym_aima \n",
    "import numpy as np \n",
    "from pprint import pprint \n",
    "from tqdm import tqdm_notebook as tqdm \n",
    "from itertools import cycle \n",
    "import random \n",
    "\n",
    "np.set_printoptions(suppress= True)\n",
    "random.seed(123); np.random.seed(123)"
   ]
  },
  {
   "cell_type": "code",
   "execution_count": 90,
   "id": "0af7ba66",
   "metadata": {},
   "outputs": [],
   "source": [
    "def print_policy(pi, P, action_symbols=('<', 'v', '>', '^'), n_cols=4, title='Policy:'):\n",
    "    print(title)\n",
    "    arrs = {k:v for k,v in enumerate(action_symbols)}\n",
    "    for s in range(len(P)):\n",
    "        a = pi(s)\n",
    "        print(\"| \", end=\"\")\n",
    "        if np.all([done for action in P[s].values() for _, _, _, done in action]):\n",
    "            print(\"\".rjust(9), end=\" \")\n",
    "        else:\n",
    "            print(str(s).zfill(2), arrs[a].rjust(6), end=\" \")\n",
    "        if (s + 1) % n_cols == 0: print(\"|\")"
   ]
  },
  {
   "cell_type": "code",
   "execution_count": 91,
   "id": "6380ff18",
   "metadata": {},
   "outputs": [],
   "source": [
    "def print_state_value_function(V, P, n_cols=4, prec=3, title='State-value function:'):\n",
    "    print(title)\n",
    "    for s in range(len(P)):\n",
    "        v = V[s]\n",
    "        print(\"| \", end=\"\")\n",
    "        if np.all([done for action in P[s].values() for _, _, _, done in action]):\n",
    "            print(\"\".rjust(9), end=\" \")\n",
    "        else:\n",
    "            print(str(s).zfill(2), '{}'.format(np.round(v, prec)).rjust(6), end=\" \")\n",
    "        if (s + 1) % n_cols == 0: print(\"|\")"
   ]
  },
  {
   "cell_type": "code",
   "execution_count": 92,
   "id": "75f1656e",
   "metadata": {},
   "outputs": [],
   "source": [
    "def print_action_value_function(Q, \n",
    "                                optimal_Q=None, \n",
    "                                action_symbols=('<', '>'), \n",
    "                                prec=3, \n",
    "                                title='Action-value function:'):\n",
    "    vf_types=('',) if optimal_Q is None else ('', '*', 'err')\n",
    "    headers = ['s',] + [' '.join(i) for i in list(itertools.product(vf_types, action_symbols))]\n",
    "    print(title)\n",
    "    states = np.arange(len(Q))[..., np.newaxis]\n",
    "    arr = np.hstack((states, np.round(Q, prec)))\n",
    "    if not (optimal_Q is None):\n",
    "        arr = np.hstack((arr, np.round(optimal_Q, prec), np.round(optimal_Q-Q, prec)))\n",
    "    print(tabulate(arr, headers, tablefmt=\"fancy_grid\"))"
   ]
  },
  {
   "cell_type": "code",
   "execution_count": 93,
   "id": "ff243f9f",
   "metadata": {},
   "outputs": [],
   "source": [
    "def probability_success(env, pi, goal_state, n_episodes=100, max_steps=200):\n",
    "    random.seed(123); np.random.seed(123) ; env.seed(123)\n",
    "    results = []\n",
    "    for _ in range(n_episodes):\n",
    "        state, done, steps = env.reset(), False, 0\n",
    "        while not done and steps < max_steps:\n",
    "            state, _, done, h = env.step(pi(state))\n",
    "            steps += 1\n",
    "        results.append(state == goal_state)\n",
    "    return np.sum(results)/len(results)"
   ]
  },
  {
   "cell_type": "code",
   "execution_count": 94,
   "id": "8111aa07",
   "metadata": {},
   "outputs": [],
   "source": [
    "def mean_return(env, pi, n_episodes=100, max_steps=200):\n",
    "    random.seed(123); np.random.seed(123) ; env.seed(123)\n",
    "    results = []\n",
    "    for _ in range(n_episodes):\n",
    "        state, done, steps = env.reset(), False, 0\n",
    "        results.append(0.0)\n",
    "        while not done and steps < max_steps:\n",
    "            state, reward, done, _ = env.step(pi(state))\n",
    "            results[-1] += reward\n",
    "            steps += 1\n",
    "    return np.mean(results)"
   ]
  },
  {
   "cell_type": "code",
   "execution_count": 95,
   "id": "33b94791",
   "metadata": {},
   "outputs": [
    {
     "name": "stdout",
     "output_type": "stream",
     "text": [
      "Policy:\n",
      "|           | 01      < | 02      < | 03      < | 04      < | 05      < |           |\n",
      "Reaches goal 7.00%. Obtains an average undiscounted return of 0.0700.\n"
     ]
    }
   ],
   "source": [
    "env = gym.make('SlipperyWalkFive-v0')\n",
    "P = env.env.P\n",
    "init_state = env.reset()\n",
    "goal_state = 6\n",
    "\n",
    "LEFT, RIGHT = range(2)\n",
    "pi = lambda s: {\n",
    "    0:LEFT, 1:LEFT, 2:LEFT, 3:LEFT, 4:LEFT, 5:LEFT, 6:LEFT\n",
    "}[s]\n",
    "print_policy(pi, P, action_symbols=('<', '>'), n_cols=7)\n",
    "print('Reaches goal {:.2f}%. Obtains an average undiscounted return of {:.4f}.'.format(\n",
    "    probability_success(env, pi, goal_state=goal_state)*100, \n",
    "    mean_return(env, pi)))"
   ]
  },
  {
   "cell_type": "code",
   "execution_count": 96,
   "id": "6d97c489",
   "metadata": {},
   "outputs": [],
   "source": [
    "def policy_evaluation(pi, P, gamma=1.0, theta=1e-10):\n",
    "    prev_V = np.zeros(len(P), dtype=np.float64)\n",
    "    while True:\n",
    "        V = np.zeros(len(P), dtype=np.float64)\n",
    "        for s in range(len(P)):\n",
    "            for prob, next_state, reward, done in P[s][pi(s)]:\n",
    "                V[s] += prob * (reward + gamma * prev_V[next_state] * (not done))\n",
    "        if np.max(np.abs(prev_V - V)) < theta:\n",
    "            break\n",
    "        prev_V = V.copy()\n",
    "    return V"
   ]
  },
  {
   "cell_type": "code",
   "execution_count": 97,
   "id": "d1fade04",
   "metadata": {},
   "outputs": [
    {
     "name": "stdout",
     "output_type": "stream",
     "text": [
      "State-value function:\n",
      "|           | 01 0.00275 | 02 0.01099 | 03 0.03571 | 04 0.10989 | 05 0.33242 |           |\n"
     ]
    }
   ],
   "source": [
    "V = policy_evaluation(pi, P)\n",
    "print_state_value_function(V, P, n_cols=7, prec=5)"
   ]
  },
  {
   "cell_type": "markdown",
   "id": "6a620a5c",
   "metadata": {},
   "source": [
    "### Policy Improvement"
   ]
  },
  {
   "cell_type": "code",
   "execution_count": 99,
   "id": "47e9ca22",
   "metadata": {},
   "outputs": [],
   "source": [
    "def policy_improvement(V, P, gamma = 1.0):\n",
    "    Q = np.zeros((len(P), len(P[0])), dtype = np.float64)\n",
    "    for s in range(len(P)):\n",
    "        for a in range(len(P[s])):\n",
    "            for prob, next_state, reward, done in P[s][a]: \n",
    "                Q[s][a] += prob * (reward + gamma * V[next_state]* (not done))\n",
    "    new_pi = lambda s: {s:a for s, a in enumerate(np.argmax(Q, axis = 1))}[s]\n",
    "    return new_pi \n"
   ]
  },
  {
   "cell_type": "code",
   "execution_count": 100,
   "id": "bdfd4c88",
   "metadata": {},
   "outputs": [
    {
     "name": "stdout",
     "output_type": "stream",
     "text": [
      "Policy:\n",
      "|           | 01      > | 02      > | 03      > | 04      > | 05      > |           |\n",
      "Reaches goal 93.00%. Obtains an average undiscounted return of 0.9300.\n"
     ]
    }
   ],
   "source": [
    "improved_pi = policy_improvement(V, P)\n",
    "print_policy(improved_pi, P, action_symbols=(\"<\", \">\"), n_cols = 7)\n",
    "print(\"Reaches goal {:.2f}%. Obtains an average undiscounted return of {:.4f}.\".format(probability_success(env, improved_pi, goal_state = goal_state)*100, mean_return(env, improved_pi)))"
   ]
  },
  {
   "cell_type": "code",
   "execution_count": 101,
   "id": "393212d0",
   "metadata": {},
   "outputs": [
    {
     "name": "stdout",
     "output_type": "stream",
     "text": [
      "State-value function:\n",
      "|           | 01 0.66758 | 02 0.89011 | 03 0.96429 | 04 0.98901 | 05 0.99725 |           |\n"
     ]
    }
   ],
   "source": [
    "# how about we evaluate the improved policy \n",
    "improved_V = policy_evaluation(improved_pi, P)\n",
    "print_state_value_function(improved_V, P, n_cols = 7, prec = 5)"
   ]
  },
  {
   "cell_type": "code",
   "execution_count": 104,
   "id": "8dc61b21",
   "metadata": {},
   "outputs": [
    {
     "name": "stdout",
     "output_type": "stream",
     "text": [
      "Policy:\n",
      "|           | 01      > | 02      > | 03      > | 04      > | 05      > |           |\n",
      "Reaches goal 93.00%. Obtains an average undiscounted return of 0.9300.\n"
     ]
    }
   ],
   "source": [
    "# can we imoroved the imporved policy \n",
    "improved_improved_pi = policy_improvement(improved_V, P)\n",
    "print_policy(improved_improved_pi, P, action_symbols=(\"<\", \">\"), n_cols = 7)\n",
    "print(\"Reaches goal {:.2f}%. Obtains an average undiscounted return of {:.4f}.\".format(probability_success(env, improved_improved_pi, goal_state = goal_state)*100, mean_return(env, improved_improved_pi)))\n"
   ]
  },
  {
   "cell_type": "code",
   "execution_count": null,
   "id": "a76ea0f1",
   "metadata": {},
   "outputs": [],
   "source": []
  },
  {
   "cell_type": "code",
   "execution_count": null,
   "id": "fc9cf8ef",
   "metadata": {},
   "outputs": [],
   "source": [
    "def policy_evaluation(pi, P, gamma = 1.0, theta = 1e-10):\n",
    "    prev_V = np.zeros(len(P), dtype= np.float64)\n",
    "    while True: \n",
    "        V = np.zeros(len(P), dtype = np.float64)\n",
    "        for s in range(len(P)): \n",
    "            for prob, next_state, reward, done in P[s][pi(s)]: \n",
    "                V[s] += prob *( reward + gamma * prev_V[next_state]*(not done))\n",
    "        if np.max(np.abs(prev_V-V)) < theta: \n",
    "            break \n",
    "        prev_V = V.copy()\n",
    "    return V "
   ]
  },
  {
   "cell_type": "code",
   "execution_count": 115,
   "id": "88e101ad",
   "metadata": {},
   "outputs": [
    {
     "data": {
      "text/plain": [
       "{0: 0, 1: 0, 2: 0, 3: 0, 4: 0, 5: 0, 6: 0}"
      ]
     },
     "execution_count": 115,
     "metadata": {},
     "output_type": "execute_result"
    }
   ],
   "source": [
    "Q = np.zeros((len(P), len(P[0])))\n",
    "{s:a for s,a in enumerate(np.argmax(Q, axis = 1))}"
   ]
  },
  {
   "cell_type": "code",
   "execution_count": 116,
   "id": "fb1c7e57",
   "metadata": {},
   "outputs": [],
   "source": [
    "def policy_improvement(V, P, gamma = 1.0): \n",
    "    Q = np.zeros((len(P), len(P[0])), dtype = np.float64)\n",
    "\n",
    "    for s in range(len(P)): \n",
    "        for a in range(len(P[s])):\n",
    "            for prob, next_state, reward, done in P[s][a]: \n",
    "                Q[s][a] += prob*(reward + gamma*V[next_state] *(not done))\n",
    "    new_pi = lambda s: {s:a for s,a in enumerate(np.argmax(Q, axis = 1))}[s]\n",
    "\n",
    "    return new_pi "
   ]
  },
  {
   "cell_type": "markdown",
   "id": "64236077",
   "metadata": {},
   "source": [
    "### Policy Iteration"
   ]
  },
  {
   "cell_type": "code",
   "execution_count": 118,
   "id": "eb423d9f",
   "metadata": {},
   "outputs": [],
   "source": [
    "def policy_iteration(P, gamma = 1.0, theta = 1e-10):\n",
    "    random_actions = np.random.choice(tuple(P[0].keys()), len(P))\n",
    "    pi = lambda s: {s:a for s, a in enumerate(random_actions)}[s]\n",
    "\n",
    "    while True: \n",
    "        old_pi = {s: pi(s) for s in range(len(P))}\n",
    "\n",
    "        V = policy_evaluation(pi, P, gamma, theta)\n",
    "        pi = policy_improvement(V, P, gamma)\n",
    "\n",
    "        if old_pi == {s: pi(s) for s in range(len(P))}:\n",
    "            break \n",
    "\n",
    "    return V, pi     "
   ]
  },
  {
   "cell_type": "code",
   "execution_count": 119,
   "id": "65c4d1c8",
   "metadata": {},
   "outputs": [
    {
     "name": "stdout",
     "output_type": "stream",
     "text": [
      "Optimial policy and state-value function (PI):\n",
      "Policy:\n",
      "|           | 01      > | 02      > | 03      > | 04      > | 05      > |           |\n",
      "Reaches goal 93.00%. Obtains an average undiscounted return of 0.9300.\n",
      "\n",
      "State-value function:\n",
      "|           | 01 0.66758 | 02 0.89011 | 03 0.96429 | 04 0.98901 | 05 0.99725 |           |\n"
     ]
    }
   ],
   "source": [
    "optimal_V, Optimal_pi = policy_iteration(P)\n",
    "print(\"Optimial policy and state-value function (PI):\")\n",
    "print_policy(Optimal_pi, P, action_symbols=(\"<\", \">\"), n_cols = 7)\n",
    "print(\"Reaches goal {:.2f}%. Obtains an average undiscounted return of {:.4f}.\".format(probability_success(env, Optimal_pi, goal_state=goal_state)*100, mean_return(env, Optimal_pi))) \n",
    "print()\n",
    "print_state_value_function(optimal_V, P, n_cols = 7, prec = 5)  "
   ]
  },
  {
   "cell_type": "markdown",
   "id": "d70e1258",
   "metadata": {},
   "source": [
    "### Frozen Lake MDP and sample policies "
   ]
  },
  {
   "cell_type": "code",
   "execution_count": 147,
   "id": "bbcee9a5",
   "metadata": {},
   "outputs": [
    {
     "name": "stdout",
     "output_type": "stream",
     "text": [
      "Policy:\n",
      "| 00      > | 01      < | 02      v | 03      ^ |\n",
      "| 04      < |           | 06      > |           |\n",
      "| 08      ^ | 09      v | 10      ^ |           |\n",
      "|           | 13      > | 14      v |           |\n",
      "Reaches goal 12.00%. Obtains an average undiscounted return of 0.1200.\n"
     ]
    }
   ],
   "source": [
    "env = gym.make(\"FrozenLake-v0\")\n",
    "P = env.env.P \n",
    "init_state = env.reset()\n",
    "goal_state = 15\n",
    "\n",
    "LEFT, DOWN, RIGHT, UP = range(4)\n",
    "random_pi = lambda s: {\n",
    "    0:RIGHT, 1:LEFT, 2:DOWN, 3:UP,\n",
    "    4:LEFT, 5:LEFT, 6:RIGHT, 7:LEFT,\n",
    "    8:UP, 9:DOWN, 10:UP, 11:LEFT,\n",
    "    12:LEFT, 13:RIGHT, 14:DOWN, 15:LEFT\n",
    "}[s]\n",
    "\n",
    "print_policy(random_pi, P)\n",
    "print('Reaches goal {:.2f}%. Obtains an average undiscounted return of {:.4f}.'.format(\n",
    "    probability_success(env, random_pi, goal_state=goal_state)*100, \n",
    "    mean_return(env, random_pi)))"
   ]
  },
  {
   "cell_type": "code",
   "execution_count": 121,
   "id": "ba7813f7",
   "metadata": {},
   "outputs": [
    {
     "name": "stdout",
     "output_type": "stream",
     "text": [
      "Policy:\n",
      "| 00      > | 01      > | 02      v | 03      < |\n",
      "| 04      v |           | 06      v |           |\n",
      "| 08      > | 09      > | 10      v |           |\n",
      "|           | 13      > | 14      > |           |\n",
      "Reaches goal 5.00%. Obtains an average undiscounted return of 0.0500.\n"
     ]
    }
   ],
   "source": [
    "\n",
    "go_get_pi = lambda s: {\n",
    "    0:RIGHT, 1:RIGHT, 2:DOWN, 3:LEFT,\n",
    "    4:DOWN, 5:LEFT, 6:DOWN, 7:LEFT,\n",
    "    8:RIGHT, 9:RIGHT, 10:DOWN, 11:LEFT,\n",
    "    12:LEFT, 13:RIGHT, 14:RIGHT, 15:LEFT\n",
    "}[s]\n",
    "print_policy(go_get_pi, P)\n",
    "print('Reaches goal {:.2f}%. Obtains an average undiscounted return of {:.4f}.'.format(\n",
    "    probability_success(env, go_get_pi, goal_state=goal_state)*100, \n",
    "    mean_return(env, go_get_pi)))"
   ]
  },
  {
   "cell_type": "code",
   "execution_count": 122,
   "id": "fb77a82f",
   "metadata": {},
   "outputs": [
    {
     "name": "stdout",
     "output_type": "stream",
     "text": [
      "Policy:\n",
      "| 00      < | 01      ^ | 02      ^ | 03      ^ |\n",
      "| 04      < |           | 06      ^ |           |\n",
      "| 08      ^ | 09      v | 10      < |           |\n",
      "|           | 13      > | 14      > |           |\n",
      "Reaches goal 52.00%. Obtains an average undiscounted return of 0.5200.\n"
     ]
    }
   ],
   "source": [
    "\n",
    "careful_pi = lambda s: {\n",
    "    0:LEFT, 1:UP, 2:UP, 3:UP,\n",
    "    4:LEFT, 5:LEFT, 6:UP, 7:LEFT,\n",
    "    8:UP, 9:DOWN, 10:LEFT, 11:LEFT,\n",
    "    12:LEFT, 13:RIGHT, 14:RIGHT, 15:LEFT\n",
    "}[s]\n",
    "print_policy(careful_pi, P)\n",
    "print('Reaches goal {:.2f}%. Obtains an average undiscounted return of {:.4f}.'.format(\n",
    "    probability_success(env, careful_pi, goal_state=goal_state)*100, \n",
    "    mean_return(env, careful_pi)))"
   ]
  },
  {
   "cell_type": "code",
   "execution_count": 123,
   "id": "76a1d8bb",
   "metadata": {},
   "outputs": [
    {
     "name": "stdout",
     "output_type": "stream",
     "text": [
      "State-value function:\n",
      "| 00 0.4079 | 01 0.3754 | 02 0.3543 | 03 0.3438 |\n",
      "| 04 0.4203 |           | 06 0.1169 |           |\n",
      "| 08 0.4454 | 09  0.484 | 10 0.4328 |           |\n",
      "|           | 13 0.5884 | 14 0.7107 |           |\n"
     ]
    }
   ],
   "source": [
    "V = policy_evaluation(careful_pi, P, gamma=.99)\n",
    "print_state_value_function(V, P, prec= 4)"
   ]
  },
  {
   "cell_type": "code",
   "execution_count": 124,
   "id": "7aa4750f",
   "metadata": {},
   "outputs": [
    {
     "name": "stdout",
     "output_type": "stream",
     "text": [
      "Policy:\n",
      "| 00      < | 01      ^ | 02      ^ | 03      ^ |\n",
      "| 04      < |           | 06      < |           |\n",
      "| 08      ^ | 09      v | 10      < |           |\n",
      "|           | 13      > | 14      v |           |\n",
      "Reaches goal 74.00%. Obtains an average undiscounted return of 0.7400.\n"
     ]
    }
   ],
   "source": [
    "careful_plus_pi = policy_improvement(V, P, gamma= .99)\n",
    "print_policy(careful_plus_pi, P)\n",
    "print('Reaches goal {:.2f}%. Obtains an average undiscounted return of {:.4f}.'.format(\n",
    "    probability_success(env, careful_plus_pi, goal_state=goal_state)*100, \n",
    "    mean_return(env, careful_plus_pi)))"
   ]
  },
  {
   "cell_type": "code",
   "execution_count": 125,
   "id": "0d13340b",
   "metadata": {},
   "outputs": [
    {
     "name": "stdout",
     "output_type": "stream",
     "text": [
      "State-value function:\n",
      "| 00  0.542 | 01 0.4988 | 02 0.4707 | 03 0.4569 |\n",
      "| 04 0.5585 |           | 06 0.3583 |           |\n",
      "| 08 0.5918 | 09 0.6431 | 10 0.6152 |           |\n",
      "|           | 13 0.7417 | 14 0.8628 |           |\n"
     ]
    }
   ],
   "source": [
    "new_V = policy_evaluation(careful_plus_pi, P, gamma=0.99)\n",
    "print_state_value_function(new_V, P, prec=4)"
   ]
  },
  {
   "cell_type": "code",
   "execution_count": 126,
   "id": "14f31bc8",
   "metadata": {},
   "outputs": [
    {
     "name": "stdout",
     "output_type": "stream",
     "text": [
      "State-value function:\n",
      "| 00 0.1341 | 01 0.1234 | 02 0.1164 | 03  0.113 |\n",
      "| 04 0.1381 |           | 06 0.2414 |           |\n",
      "| 08 0.1464 | 09 0.1591 | 10 0.1824 |           |\n",
      "|           | 13 0.1533 | 14 0.1521 |           |\n"
     ]
    }
   ],
   "source": [
    "print_state_value_function(new_V-V, P, prec= 4)"
   ]
  },
  {
   "cell_type": "code",
   "execution_count": 127,
   "id": "770503b5",
   "metadata": {},
   "outputs": [
    {
     "name": "stdout",
     "output_type": "stream",
     "text": [
      "Policy:\n",
      "| 00      ^ | 01      ^ | 02      ^ | 03      ^ |\n",
      "| 04      ^ |           | 06      ^ |           |\n",
      "| 08      < | 09      < | 10      < |           |\n",
      "|           | 13      < | 14      < |           |\n",
      "Reaches goal 0.00%. Obtains an average undiscounted return of 0.0000.\n"
     ]
    }
   ],
   "source": [
    "adversarial_pi = lambda s: {\n",
    "    0:UP, 1:UP, 2:UP, 3:UP,\n",
    "    4:UP, 5:LEFT, 6:UP, 7:LEFT,\n",
    "    8:LEFT, 9:LEFT, 10:LEFT, 11:LEFT,\n",
    "    12:LEFT, 13:LEFT, 14:LEFT, 15:LEFT\n",
    "}[s]\n",
    "print_policy(adversarial_pi, P)\n",
    "print('Reaches goal {:.2f}%. Obtains an average undiscounted return of {:.4f}.'.format(\n",
    "    probability_success(env, adversarial_pi, goal_state=goal_state)*100, \n",
    "    mean_return(env, adversarial_pi)))"
   ]
  },
  {
   "cell_type": "code",
   "execution_count": 128,
   "id": "b787e7ed",
   "metadata": {},
   "outputs": [
    {
     "name": "stdout",
     "output_type": "stream",
     "text": [
      "State-value function:\n",
      "| 00    0.0 | 01    0.0 | 02    0.0 | 03    0.0 |\n",
      "| 04    0.0 |           | 06    0.0 |           |\n",
      "| 08    0.0 | 09    0.0 | 10    0.0 |           |\n",
      "|           | 13    0.0 | 14    0.0 |           |\n"
     ]
    }
   ],
   "source": [
    "\n",
    "V = policy_evaluation(adversarial_pi, P, gamma=0.99)\n",
    "print_state_value_function(V, P, prec=2)"
   ]
  },
  {
   "cell_type": "code",
   "execution_count": 129,
   "id": "c90f5e32",
   "metadata": {},
   "outputs": [
    {
     "name": "stdout",
     "output_type": "stream",
     "text": [
      "Policy:\n",
      "| 00      < | 01      < | 02      < | 03      < |\n",
      "| 04      < |           | 06      < |           |\n",
      "| 08      < | 09      < | 10      < |           |\n",
      "|           | 13      < | 14      v |           |\n",
      "Reaches goal 0.00%. Obtains an average undiscounted return of 0.0000.\n"
     ]
    }
   ],
   "source": [
    "\n",
    "i_pi = policy_improvement(V, P, gamma=0.99)\n",
    "print_policy(i_pi, P)\n",
    "print('Reaches goal {:.2f}%. Obtains an average undiscounted return of {:.4f}.'.format(\n",
    "    probability_success(env, i_pi, goal_state=goal_state)*100, \n",
    "    mean_return(env, i_pi)))"
   ]
  },
  {
   "cell_type": "code",
   "execution_count": 132,
   "id": "89c15bd1",
   "metadata": {},
   "outputs": [
    {
     "name": "stdout",
     "output_type": "stream",
     "text": [
      "State-value function:\n",
      "| 00    0.0 | 01    0.0 | 02   0.04 | 03   0.02 |\n",
      "| 04    0.0 |           | 06   0.07 |           |\n",
      "| 08    0.0 | 09    0.0 | 10   0.19 |           |\n",
      "|           | 13    0.0 | 14    0.5 |           |\n"
     ]
    }
   ],
   "source": [
    "\n",
    "i_V = policy_evaluation(i_pi, P, gamma=0.99)\n",
    "print_state_value_function(i_V, P, prec=2)"
   ]
  },
  {
   "cell_type": "code",
   "execution_count": 133,
   "id": "cc0d5bd0",
   "metadata": {},
   "outputs": [
    {
     "name": "stdout",
     "output_type": "stream",
     "text": [
      "Policy:\n",
      "| 00      < | 01      v | 02      > | 03      ^ |\n",
      "| 04      < |           | 06      < |           |\n",
      "| 08      < | 09      v | 10      < |           |\n",
      "|           | 13      v | 14      > |           |\n",
      "Reaches goal 0.00%. Obtains an average undiscounted return of 0.0000.\n"
     ]
    }
   ],
   "source": [
    "\n",
    "ii_pi = policy_improvement(i_V, P, gamma=0.99)\n",
    "print_policy(ii_pi, P)\n",
    "print('Reaches goal {:.2f}%. Obtains an average undiscounted return of {:.4f}.'.format(\n",
    "    probability_success(env, ii_pi, goal_state=goal_state)*100, \n",
    "    mean_return(env, ii_pi)))"
   ]
  },
  {
   "cell_type": "code",
   "execution_count": 134,
   "id": "146bfaa4",
   "metadata": {},
   "outputs": [
    {
     "name": "stdout",
     "output_type": "stream",
     "text": [
      "State-value function:\n",
      "| 00    0.0 | 01   0.05 | 02   0.16 | 03   0.15 |\n",
      "| 04    0.0 |           | 06   0.17 |           |\n",
      "| 08    0.0 | 09   0.22 | 10   0.35 |           |\n",
      "|           | 13   0.33 | 14   0.67 |           |\n"
     ]
    }
   ],
   "source": [
    "\n",
    "ii_V = policy_evaluation(ii_pi, P, gamma=0.99)\n",
    "print_state_value_function(ii_V, P, prec=2)"
   ]
  },
  {
   "cell_type": "code",
   "execution_count": 135,
   "id": "f3c7d4f0",
   "metadata": {},
   "outputs": [
    {
     "name": "stdout",
     "output_type": "stream",
     "text": [
      "Policy:\n",
      "| 00      v | 01      > | 02      > | 03      ^ |\n",
      "| 04      < |           | 06      < |           |\n",
      "| 08      v | 09      v | 10      < |           |\n",
      "|           | 13      > | 14      > |           |\n",
      "Reaches goal 20.00%. Obtains an average undiscounted return of 0.2000.\n"
     ]
    }
   ],
   "source": [
    "\n",
    "iii_pi = policy_improvement(ii_V, P, gamma=0.99)\n",
    "print_policy(iii_pi, P)\n",
    "print('Reaches goal {:.2f}%. Obtains an average undiscounted return of {:.4f}.'.format(\n",
    "    probability_success(env, iii_pi, goal_state=goal_state)*100, \n",
    "    mean_return(env, iii_pi)))"
   ]
  },
  {
   "cell_type": "markdown",
   "id": "81bab1b8",
   "metadata": {},
   "source": [
    "### Value Iteration"
   ]
  },
  {
   "cell_type": "code",
   "execution_count": 140,
   "id": "fd928642",
   "metadata": {},
   "outputs": [],
   "source": [
    "\n",
    "def value_iteration(P, gamma=1.0, theta=1e-10):\n",
    "    V = np.zeros(len(P), dtype=np.float64)\n",
    "    while True:\n",
    "        Q = np.zeros((len(P), len(P[0])), dtype=np.float64)\n",
    "        for s in range(len(P)):\n",
    "            for a in range(len(P[s])):\n",
    "                for prob, next_state, reward, done in P[s][a]:\n",
    "                    Q[s][a] += prob * (reward + gamma * V[next_state] * (not done))\n",
    "        if np.max(np.abs(V - np.max(Q, axis=1))) < theta:\n",
    "            break\n",
    "        V = np.max(Q, axis=1)\n",
    "    pi = lambda s: {s:a for s, a in enumerate(np.argmax(Q, axis=1))}[s]\n",
    "    return V, pi"
   ]
  },
  {
   "cell_type": "code",
   "execution_count": 153,
   "id": "e4624976",
   "metadata": {},
   "outputs": [],
   "source": [
    "\n",
    "env = gym.make('SlipperyWalkFive-v0')\n",
    "init_state = env.reset()\n",
    "goal_state = 6\n",
    "P = env.env.P"
   ]
  },
  {
   "cell_type": "code",
   "execution_count": 154,
   "id": "c519806c",
   "metadata": {},
   "outputs": [
    {
     "name": "stdout",
     "output_type": "stream",
     "text": [
      "Optimal policy and state-value function (PI):\n",
      "Policy:\n",
      "|           | 01      > | 02      > | 03      > | 04      > | 05      > |           |\n",
      "Reaches goal 93.00%. Obtains an average undiscounted return of 0.9300.\n",
      "\n",
      "State-value function:\n",
      "|           | 01 0.66758 | 02 0.89011 | 03 0.96429 | 04 0.98901 | 05 0.99725 |           |\n"
     ]
    }
   ],
   "source": [
    "optimal_V, optimal_pi = value_iteration(P)\n",
    "print('Optimal policy and state-value function (PI):')\n",
    "print_policy(optimal_pi, P, action_symbols=('<','>'), n_cols=7)\n",
    "print('Reaches goal {:.2f}%. Obtains an average undiscounted return of {:.4f}.'.format(\n",
    "    probability_success(env, optimal_pi, goal_state=goal_state)*100, \n",
    "    mean_return(env, optimal_pi)))\n",
    "print()\n",
    "print_state_value_function(optimal_V, P, n_cols=7, prec=5)\n",
    "# |            | 01   0.668 | 02   0.890 | 03   0.964 | 04   0.989 | 05   0.997 |"
   ]
  },
  {
   "cell_type": "code",
   "execution_count": null,
   "id": "ad98aaa8",
   "metadata": {},
   "outputs": [],
   "source": []
  }
 ],
 "metadata": {
  "kernelspec": {
   "display_name": "Python 3",
   "language": "python",
   "name": "python3"
  },
  "language_info": {
   "codemirror_mode": {
    "name": "ipython",
    "version": 3
   },
   "file_extension": ".py",
   "mimetype": "text/x-python",
   "name": "python",
   "nbconvert_exporter": "python",
   "pygments_lexer": "ipython3",
   "version": "3.7.3"
  }
 },
 "nbformat": 4,
 "nbformat_minor": 5
}
